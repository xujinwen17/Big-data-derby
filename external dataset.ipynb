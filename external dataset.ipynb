{
 "cells": [
  {
   "cell_type": "markdown",
   "metadata": {
    "id": "LYnVt4k4aybW"
   },
   "source": [
    "# 1. Inport libraries\n",
    "\n",
    "* Data processing: numpy, pandas\n",
    "\n",
    "* Visualization: matplotlib, seaborn\n",
    "\n",
    "* Hyperparameter tunning: hyperopt\n",
    "\n",
    "* Maching learning packages:\n",
    "  * LightGBM: lightgbm\n",
    "  * scikit-learn\n",
    "\n",
    "* Model interpretation:\n",
    "  * SHapley Additive exPlanations: shap\n",
    "  * Decision tree visualization: dtreeviz"
   ]
  },
  {
   "cell_type": "code",
   "execution_count": 1,
   "metadata": {
    "id": "PvqOmKsrwQ0T"
   },
   "outputs": [],
   "source": [
    "import numpy as np \n",
    "import pandas as pd\n",
    "\n",
    "import matplotlib.pyplot as plt\n",
    "import matplotlib.lines as mlines\n",
    "import seaborn as sns\n",
    "\n",
    "import statsmodels.api as sm\n",
    "from sklearn.metrics import roc_auc_score, accuracy_score\n",
    "from sklearn.metrics import confusion_matrix, f1_score, recall_score, precision_score\n",
    "#from sklearn.metrics import mean_squared_error, f1_score\n",
    "#from sklearn.model_selection import StratifiedKFold, KFold\n",
    "\n",
    "import copy\n",
    "import gc\n",
    "#import json\n",
    "#from pathlib import Path\n",
    "#import sys\n",
    "#import os\n",
    "#import pickle\n",
    "#import joblib\n",
    "\n",
    "#import pyarrow.parquet as pq\n",
    "#import pyarrow as pa\n",
    "\n",
    "from datetime import datetime, date, time\n",
    "\n",
    "pd.options.display.max_rows = 100\n",
    "pd.options.display.max_columns = 100\n",
    "\n",
    "import warnings\n",
    "warnings.filterwarnings(\"ignore\")"
   ]
  },
  {
   "cell_type": "markdown",
   "metadata": {
    "id": "oyziOiyvcIOx"
   },
   "source": [
    "# 2. Load data\n",
    "\n",
    "For Task 1, load the \"nyra_start_table.csv\" and \"nyra_race_table.csv\" CSV files for prediction.\n",
    "\n",
    "* nyra_start_table.csv - horse/jockey race data\n",
    "* nyra_race_table.csv - racetrack race data\n",
    "\n",
    "We can notice that there are three columns exist in all the above four tables, which can be viewed as keys. They are:\n",
    "\n",
    "* track_id\n",
    "* race_date\n",
    "* race_number"
   ]
  },
  {
   "cell_type": "code",
   "execution_count": 2,
   "metadata": {
    "id": "wiitzU5HaxhE"
   },
   "outputs": [],
   "source": [
    "race_df = pd.read_csv('nyra_race_table.csv')\n",
    "start_df = pd.read_csv('nyra_start_table.csv', header=None)\n",
    "# tracking_df = pd.read_csv('/content/drive/MyDrive/Postgraduate/big-data-derby-2022/nyra_tracking_table.csv')\n",
    "\n",
    "start_df.columns = ['track_id', 'race_date', 'race_number', 'program_number', \n",
    "             'weight_carried', 'jockey', 'odds', 'position_at_finish']\n",
    "task1_df = start_df.merge(race_df, on=['track_id','race_date', 'race_number'], how='inner')"
   ]
  },
  {
   "cell_type": "code",
   "execution_count": 3,
   "metadata": {
    "id": "VSdNits0LSR8"
   },
   "outputs": [],
   "source": [
    "weather = pd.read_csv('nyc_temperature.csv')\n",
    "weather['race_date'] = pd.to_datetime(weather['date'])\n",
    "weather.drop(['date'], axis = 1, inplace = True)"
   ]
  },
  {
   "cell_type": "code",
   "execution_count": 4,
   "metadata": {
    "id": "ffnqk7dWLSjN"
   },
   "outputs": [],
   "source": [
    "incident = pd.read_csv('nyra-2019-incidents.csv')\n",
    "incident['race_date'] = pd.to_datetime(incident['incident-date'])\n",
    "incident.drop(['incident-date'], axis = 1, inplace = True)\n",
    "incident.rename(columns={'Horse Name':'horse_name'},inplace = True)"
   ]
  },
  {
   "cell_type": "code",
   "execution_count": 5,
   "metadata": {
    "id": "WEnFE33ALUsa"
   },
   "outputs": [],
   "source": [
    "horse_id = pd.read_csv(\"horse_ids.csv\", index_col = 0)\n",
    "horse_name = pd.read_csv(\"horse_names.csv\", index_col = 0)\n",
    "horse = pd.merge(horse_id, horse_name, on = ['horse_id'], how = 'inner')\n",
    "horse.rename(columns = {'race':'race_number'},inplace = True)\n",
    "horse.rename(columns = {'finishing_place':'position_at_finish'},inplace = True)\n",
    "horse['race_date'] = pd.to_datetime(horse['race_date'])"
   ]
  },
  {
   "cell_type": "code",
   "execution_count": 6,
   "metadata": {
    "id": "0QAzbtJNLWRb"
   },
   "outputs": [],
   "source": [
    "task1_df['race_date'] = pd.to_datetime(task1_df['race_date'])\n",
    "task1_df = pd.merge(task1_df, weather, on=['race_date'],how='inner')\n",
    "task1_df = pd.merge(task1_df, horse, on=['track_id', 'race_date', 'race_number','position_at_finish'],how='inner')\n",
    "task1_df = pd.merge(task1_df, incident, on=['horse_name'],how='left')"
   ]
  },
  {
   "cell_type": "code",
   "execution_count": 7,
   "metadata": {
    "id": "9GJgGMN8LY-v"
   },
   "outputs": [],
   "source": [
    "task1_df['precipitation'].replace(to_replace=\"T\", value=0, inplace = True)\n",
    "task1_df['tavg'] = task1_df['tavg'].astype('int')\n",
    "task1_df['precipitation'] = task1_df['precipitation'].astype('float')\n",
    "task1_df['precipitation'] = task1_df['precipitation'].astype('int')"
   ]
  },
  {
   "cell_type": "code",
   "execution_count": 8,
   "metadata": {
    "id": "JMeE5uHkLqbr"
   },
   "outputs": [],
   "source": [
    "task1_df.drop(['program_number_x'], axis = 1, inplace = True)\n",
    "task1_df.rename(columns={'program_number_y':'program_number'}, inplace =True)\n",
    "task1_df.drop(['race_date_y'], axis = 1, inplace = True)\n",
    "task1_df.rename(columns={'race_date_x':'race_date'}, inplace =True)\n",
    "task1_df['injury']=np.where(task1_df['incident-type'] != task1_df['incident-type'],0,1)\n",
    "task1_df.drop(['HDD','CDD','new_snow','snow_depth','tmax','tmin','departure','horse_name','incident-type','injuried-party','pulled','outsome','racing-type','racetrack','where','trainer','jokey','temp','weather=desc','note'],axis = 1, inplace = True)"
   ]
  },
  {
   "cell_type": "code",
   "execution_count": 9,
   "metadata": {
    "colab": {
     "base_uri": "https://localhost:8080/"
    },
    "executionInfo": {
     "elapsed": 19,
     "status": "ok",
     "timestamp": 1668413448535,
     "user": {
      "displayName": "徐锦雯",
      "userId": "07523249921587303598"
     },
     "user_tz": -480
    },
    "id": "cnw435G-S7OR",
    "outputId": "4ab09b77-ecda-4c18-f995-088a669ff6b1"
   },
   "outputs": [
    {
     "name": "stdout",
     "output_type": "stream",
     "text": [
      "<class 'pandas.core.frame.DataFrame'>\n",
      "Int64Index: 14919 entries, 0 to 14918\n",
      "Data columns (total 19 columns):\n",
      " #   Column              Non-Null Count  Dtype         \n",
      "---  ------              --------------  -----         \n",
      " 0   track_id            14919 non-null  object        \n",
      " 1   race_date           14919 non-null  datetime64[ns]\n",
      " 2   race_number         14919 non-null  int64         \n",
      " 3   weight_carried      14919 non-null  int64         \n",
      " 4   jockey              14919 non-null  object        \n",
      " 5   odds                14919 non-null  int64         \n",
      " 6   position_at_finish  14919 non-null  int64         \n",
      " 7   distance_id         14919 non-null  int64         \n",
      " 8   course_type         14919 non-null  object        \n",
      " 9   track_condition     14919 non-null  object        \n",
      " 10  run_up_distance     14919 non-null  int64         \n",
      " 11  race_type           14919 non-null  object        \n",
      " 12  purse               14919 non-null  int64         \n",
      " 13  post_time           14919 non-null  int64         \n",
      " 14  tavg                14919 non-null  int64         \n",
      " 15  precipitation       14919 non-null  int64         \n",
      " 16  program_number      14919 non-null  object        \n",
      " 17  horse_id            14919 non-null  int64         \n",
      " 18  injury              14919 non-null  int64         \n",
      "dtypes: datetime64[ns](1), int64(12), object(6)\n",
      "memory usage: 2.3+ MB\n"
     ]
    }
   ],
   "source": [
    "task1_df.info()"
   ]
  },
  {
   "cell_type": "markdown",
   "metadata": {
    "id": "m2lrQpFrc1-l"
   },
   "source": [
    "# 3. EDA\n",
    "\n",
    "EDA to get knowledge about how each feature in the files distributed, also might found outliers within the data of each feature."
   ]
  },
  {
   "cell_type": "code",
   "execution_count": 10,
   "metadata": {
    "colab": {
     "base_uri": "https://localhost:8080/"
    },
    "executionInfo": {
     "elapsed": 18,
     "status": "ok",
     "timestamp": 1668413448535,
     "user": {
      "displayName": "徐锦雯",
      "userId": "07523249921587303598"
     },
     "user_tz": -480
    },
    "id": "vMDId0zhFiLa",
    "outputId": "ec240b16-f680-4119-de4d-a2175bc33fb3"
   },
   "outputs": [
    {
     "name": "stdout",
     "output_type": "stream",
     "text": [
      "(14915, 8) (14915, 8)\n",
      "(14915, 15)\n"
     ]
    }
   ],
   "source": [
    "race_type_dict = {'STK':'Stakes', 'WCL':'Waiver Claiming', 'WMC':'Waiver Maiden Claiming', 'SST':'Starter Stakes', \n",
    "          'SHP':'Starter Handicap', 'CLM':'Claiming', 'STR':'Starter Allowance', 'AOC':'Allowance Optionl Claimer', \n",
    "          'SOC':'Starter Optional Claimer', 'MCL':'Maiden Claiming', 'ALW':'Allowance', 'MSW':'Maiden Special Weight'}\n",
    "track_id_dict = dict(AQU='Aqueduct', BEL='Belmont', SAR='Saratoga')\n",
    "course_type_dict = dict(M='Hurdle', D='Dirt', O='Outer turf', I='Inner turf', T='turf')\n",
    "track_condition_dict = dict(YL='Yielding', FM='Firm', SY='Sloppy', GD='Good', FT='Fast', MY='Muddy', SF='Soft')\n",
    "\n",
    "EDA_race_df = race_df.copy()\n",
    "EDA_race_df['race_type'] = EDA_race_df['race_type'].map(race_type_dict)\n",
    "EDA_race_df['track_id'] = EDA_race_df['track_id'].map(track_id_dict)\n",
    "EDA_race_df['course_type'] = EDA_race_df['course_type'].map(course_type_dict)\n",
    "EDA_race_df['track_condition'] = EDA_race_df['track_condition'].apply(lambda x:x.replace(\" \", ''))\n",
    "EDA_race_df['track_condition'] = EDA_race_df['track_condition'].map(track_condition_dict)\n",
    "EDA_start_df = start_df.copy()\n",
    "EDA_start_df['track_id'] = EDA_start_df['track_id'].map(track_id_dict)\n",
    "print(EDA_start_df.shape, EDA_start_df.shape)\n",
    "\n",
    "EDA_df = EDA_start_df.merge(EDA_race_df, on=['track_id','race_date','race_number'], how='inner')\n",
    "print(EDA_df.shape)"
   ]
  },
  {
   "cell_type": "code",
   "execution_count": 11,
   "metadata": {
    "colab": {
     "base_uri": "https://localhost:8080/"
    },
    "executionInfo": {
     "elapsed": 14,
     "status": "ok",
     "timestamp": 1668413448535,
     "user": {
      "displayName": "徐锦雯",
      "userId": "07523249921587303598"
     },
     "user_tz": -480
    },
    "id": "0TWKmINZR3Tt",
    "outputId": "5857ef15-a8e1-4004-b4ea-30c79e140847"
   },
   "outputs": [
    {
     "name": "stdout",
     "output_type": "stream",
     "text": [
      "<class 'pandas.core.frame.DataFrame'>\n",
      "Int64Index: 14915 entries, 0 to 14914\n",
      "Data columns (total 15 columns):\n",
      " #   Column              Non-Null Count  Dtype \n",
      "---  ------              --------------  ----- \n",
      " 0   track_id            14915 non-null  object\n",
      " 1   race_date           14915 non-null  object\n",
      " 2   race_number         14915 non-null  int64 \n",
      " 3   program_number      14915 non-null  object\n",
      " 4   weight_carried      14915 non-null  int64 \n",
      " 5   jockey              14915 non-null  object\n",
      " 6   odds                14915 non-null  int64 \n",
      " 7   position_at_finish  14915 non-null  int64 \n",
      " 8   distance_id         14915 non-null  int64 \n",
      " 9   course_type         14915 non-null  object\n",
      " 10  track_condition     14915 non-null  object\n",
      " 11  run_up_distance     14915 non-null  int64 \n",
      " 12  race_type           14915 non-null  object\n",
      " 13  purse               14915 non-null  int64 \n",
      " 14  post_time           14915 non-null  int64 \n",
      "dtypes: int64(8), object(7)\n",
      "memory usage: 1.8+ MB\n"
     ]
    }
   ],
   "source": [
    "EDA_df.info()"
   ]
  },
  {
   "cell_type": "code",
   "execution_count": 12,
   "metadata": {
    "colab": {
     "base_uri": "https://localhost:8080/"
    },
    "executionInfo": {
     "elapsed": 13,
     "status": "ok",
     "timestamp": 1668413448536,
     "user": {
      "displayName": "徐锦雯",
      "userId": "07523249921587303598"
     },
     "user_tz": -480
    },
    "id": "J-Zvz1ladNhJ",
    "outputId": "730f157d-e2fe-4bea-e2d3-a3cfd4b223db"
   },
   "outputs": [
    {
     "data": {
      "text/plain": [
       "track_id                3\n",
       "race_date             217\n",
       "race_number            13\n",
       "program_number         20\n",
       "weight_carried         35\n",
       "jockey                178\n",
       "odds                  656\n",
       "position_at_finish     14\n",
       "distance_id            20\n",
       "course_type             5\n",
       "track_condition         7\n",
       "run_up_distance       127\n",
       "race_type              12\n",
       "purse                  70\n",
       "post_time             360\n",
       "dtype: int64"
      ]
     },
     "execution_count": 12,
     "metadata": {},
     "output_type": "execute_result"
    }
   ],
   "source": [
    "EDA_df.nunique()"
   ]
  },
  {
   "cell_type": "code",
   "execution_count": 13,
   "metadata": {
    "colab": {
     "base_uri": "https://localhost:8080/",
     "height": 175
    },
    "executionInfo": {
     "elapsed": 11,
     "status": "ok",
     "timestamp": 1668413448536,
     "user": {
      "displayName": "徐锦雯",
      "userId": "07523249921587303598"
     },
     "user_tz": -480
    },
    "id": "vEdUQtpyJX_e",
    "outputId": "fe5fc94b-e6d2-4d39-b461-735258c3dad8"
   },
   "outputs": [
    {
     "data": {
      "text/html": [
       "<div>\n",
       "<style scoped>\n",
       "    .dataframe tbody tr th:only-of-type {\n",
       "        vertical-align: middle;\n",
       "    }\n",
       "\n",
       "    .dataframe tbody tr th {\n",
       "        vertical-align: top;\n",
       "    }\n",
       "\n",
       "    .dataframe thead th {\n",
       "        text-align: right;\n",
       "    }\n",
       "</style>\n",
       "<table border=\"1\" class=\"dataframe\">\n",
       "  <thead>\n",
       "    <tr style=\"text-align: right;\">\n",
       "      <th></th>\n",
       "      <th>track_id</th>\n",
       "      <th>race_date</th>\n",
       "      <th>program_number</th>\n",
       "      <th>jockey</th>\n",
       "      <th>course_type</th>\n",
       "      <th>track_condition</th>\n",
       "      <th>race_type</th>\n",
       "    </tr>\n",
       "  </thead>\n",
       "  <tbody>\n",
       "    <tr>\n",
       "      <th>count</th>\n",
       "      <td>14915</td>\n",
       "      <td>14915</td>\n",
       "      <td>14915</td>\n",
       "      <td>14915</td>\n",
       "      <td>14915</td>\n",
       "      <td>14915</td>\n",
       "      <td>14915</td>\n",
       "    </tr>\n",
       "    <tr>\n",
       "      <th>unique</th>\n",
       "      <td>3</td>\n",
       "      <td>217</td>\n",
       "      <td>20</td>\n",
       "      <td>178</td>\n",
       "      <td>5</td>\n",
       "      <td>7</td>\n",
       "      <td>12</td>\n",
       "    </tr>\n",
       "    <tr>\n",
       "      <th>top</th>\n",
       "      <td>Aqueduct</td>\n",
       "      <td>2019-08-24</td>\n",
       "      <td>4</td>\n",
       "      <td>Manuel Franco</td>\n",
       "      <td>Dirt</td>\n",
       "      <td>Fast</td>\n",
       "      <td>Claiming</td>\n",
       "    </tr>\n",
       "    <tr>\n",
       "      <th>freq</th>\n",
       "      <td>6191</td>\n",
       "      <td>117</td>\n",
       "      <td>1748</td>\n",
       "      <td>1274</td>\n",
       "      <td>9467</td>\n",
       "      <td>6921</td>\n",
       "      <td>3329</td>\n",
       "    </tr>\n",
       "  </tbody>\n",
       "</table>\n",
       "</div>"
      ],
      "text/plain": [
       "        track_id   race_date program_number         jockey course_type  \\\n",
       "count      14915       14915          14915          14915       14915   \n",
       "unique         3         217             20            178           5   \n",
       "top     Aqueduct  2019-08-24            4    Manuel Franco        Dirt   \n",
       "freq        6191         117           1748           1274        9467   \n",
       "\n",
       "       track_condition race_type  \n",
       "count            14915     14915  \n",
       "unique               7        12  \n",
       "top               Fast  Claiming  \n",
       "freq              6921      3329  "
      ]
     },
     "execution_count": 13,
     "metadata": {},
     "output_type": "execute_result"
    }
   ],
   "source": [
    "EDA_df.describe(include=['object'])"
   ]
  },
  {
   "cell_type": "code",
   "execution_count": 14,
   "metadata": {
    "colab": {
     "base_uri": "https://localhost:8080/",
     "height": 300
    },
    "executionInfo": {
     "elapsed": 10,
     "status": "ok",
     "timestamp": 1668413448536,
     "user": {
      "displayName": "徐锦雯",
      "userId": "07523249921587303598"
     },
     "user_tz": -480
    },
    "id": "-fKW-cz_TddL",
    "outputId": "744f749c-4546-4ca5-9768-4028b9c60e01"
   },
   "outputs": [
    {
     "data": {
      "text/html": [
       "<div>\n",
       "<style scoped>\n",
       "    .dataframe tbody tr th:only-of-type {\n",
       "        vertical-align: middle;\n",
       "    }\n",
       "\n",
       "    .dataframe tbody tr th {\n",
       "        vertical-align: top;\n",
       "    }\n",
       "\n",
       "    .dataframe thead th {\n",
       "        text-align: right;\n",
       "    }\n",
       "</style>\n",
       "<table border=\"1\" class=\"dataframe\">\n",
       "  <thead>\n",
       "    <tr style=\"text-align: right;\">\n",
       "      <th></th>\n",
       "      <th>race_number</th>\n",
       "      <th>weight_carried</th>\n",
       "      <th>odds</th>\n",
       "      <th>position_at_finish</th>\n",
       "      <th>distance_id</th>\n",
       "      <th>run_up_distance</th>\n",
       "      <th>purse</th>\n",
       "      <th>post_time</th>\n",
       "    </tr>\n",
       "  </thead>\n",
       "  <tbody>\n",
       "    <tr>\n",
       "      <th>count</th>\n",
       "      <td>14915.000000</td>\n",
       "      <td>14915.000000</td>\n",
       "      <td>14915.000000</td>\n",
       "      <td>14915.000000</td>\n",
       "      <td>14915.000000</td>\n",
       "      <td>14915.000000</td>\n",
       "      <td>1.491500e+04</td>\n",
       "      <td>14915.000000</td>\n",
       "    </tr>\n",
       "    <tr>\n",
       "      <th>mean</th>\n",
       "      <td>5.494200</td>\n",
       "      <td>120.454040</td>\n",
       "      <td>1483.496480</td>\n",
       "      <td>4.486088</td>\n",
       "      <td>725.454241</td>\n",
       "      <td>66.806436</td>\n",
       "      <td>8.367621e+04</td>\n",
       "      <td>412.094200</td>\n",
       "    </tr>\n",
       "    <tr>\n",
       "      <th>std</th>\n",
       "      <td>2.826058</td>\n",
       "      <td>3.522007</td>\n",
       "      <td>1956.137156</td>\n",
       "      <td>2.569144</td>\n",
       "      <td>150.055597</td>\n",
       "      <td>36.902299</td>\n",
       "      <td>1.143569e+05</td>\n",
       "      <td>272.818096</td>\n",
       "    </tr>\n",
       "    <tr>\n",
       "      <th>min</th>\n",
       "      <td>1.000000</td>\n",
       "      <td>110.000000</td>\n",
       "      <td>0.000000</td>\n",
       "      <td>1.000000</td>\n",
       "      <td>450.000000</td>\n",
       "      <td>0.000000</td>\n",
       "      <td>1.600000e+04</td>\n",
       "      <td>100.000000</td>\n",
       "    </tr>\n",
       "    <tr>\n",
       "      <th>25%</th>\n",
       "      <td>3.000000</td>\n",
       "      <td>118.000000</td>\n",
       "      <td>335.000000</td>\n",
       "      <td>2.000000</td>\n",
       "      <td>600.000000</td>\n",
       "      <td>45.000000</td>\n",
       "      <td>4.100000e+04</td>\n",
       "      <td>230.000000</td>\n",
       "    </tr>\n",
       "    <tr>\n",
       "      <th>50%</th>\n",
       "      <td>6.000000</td>\n",
       "      <td>120.000000</td>\n",
       "      <td>730.000000</td>\n",
       "      <td>4.000000</td>\n",
       "      <td>700.000000</td>\n",
       "      <td>54.000000</td>\n",
       "      <td>6.200000e+04</td>\n",
       "      <td>347.000000</td>\n",
       "    </tr>\n",
       "    <tr>\n",
       "      <th>75%</th>\n",
       "      <td>8.000000</td>\n",
       "      <td>122.000000</td>\n",
       "      <td>1740.000000</td>\n",
       "      <td>6.000000</td>\n",
       "      <td>800.000000</td>\n",
       "      <td>78.000000</td>\n",
       "      <td>8.000000e+04</td>\n",
       "      <td>512.000000</td>\n",
       "    </tr>\n",
       "    <tr>\n",
       "      <th>max</th>\n",
       "      <td>13.000000</td>\n",
       "      <td>160.000000</td>\n",
       "      <td>19100.000000</td>\n",
       "      <td>14.000000</td>\n",
       "      <td>2000.000000</td>\n",
       "      <td>280.000000</td>\n",
       "      <td>1.500000e+06</td>\n",
       "      <td>1259.000000</td>\n",
       "    </tr>\n",
       "  </tbody>\n",
       "</table>\n",
       "</div>"
      ],
      "text/plain": [
       "        race_number  weight_carried          odds  position_at_finish  \\\n",
       "count  14915.000000    14915.000000  14915.000000        14915.000000   \n",
       "mean       5.494200      120.454040   1483.496480            4.486088   \n",
       "std        2.826058        3.522007   1956.137156            2.569144   \n",
       "min        1.000000      110.000000      0.000000            1.000000   \n",
       "25%        3.000000      118.000000    335.000000            2.000000   \n",
       "50%        6.000000      120.000000    730.000000            4.000000   \n",
       "75%        8.000000      122.000000   1740.000000            6.000000   \n",
       "max       13.000000      160.000000  19100.000000           14.000000   \n",
       "\n",
       "        distance_id  run_up_distance         purse     post_time  \n",
       "count  14915.000000     14915.000000  1.491500e+04  14915.000000  \n",
       "mean     725.454241        66.806436  8.367621e+04    412.094200  \n",
       "std      150.055597        36.902299  1.143569e+05    272.818096  \n",
       "min      450.000000         0.000000  1.600000e+04    100.000000  \n",
       "25%      600.000000        45.000000  4.100000e+04    230.000000  \n",
       "50%      700.000000        54.000000  6.200000e+04    347.000000  \n",
       "75%      800.000000        78.000000  8.000000e+04    512.000000  \n",
       "max     2000.000000       280.000000  1.500000e+06   1259.000000  "
      ]
     },
     "execution_count": 14,
     "metadata": {},
     "output_type": "execute_result"
    }
   ],
   "source": [
    "EDA_df.describe(exclude=['object'])"
   ]
  },
  {
   "cell_type": "code",
   "execution_count": 15,
   "metadata": {
    "id": "zIWCCSJ2ZA6G"
   },
   "outputs": [],
   "source": [
    "def bar(data, caption, figsize=(12, 6)):\n",
    "  if data.index.dtype in ['int64', 'int32', 'float64', 'float32']:\n",
    "    data.index = data.index.astype(str)\n",
    "  plt.figure(figsize=figsize)\n",
    "  plt.style.use('seaborn-whitegrid')\n",
    "  plt.barh(data.index.values, data.values, color=\"lightseagreen\", alpha=0.7)\n",
    "  for i, v in enumerate(data.values):\n",
    "    plt.text(v + 3.9, i + .025, str(v), fontsize=10, color=\"teal\", fontweight='bold')#deepskyblue#dodgerblue\n",
    "  plt.title(caption, fontsize=12, loc='left')\n",
    "  plt.xticks([])\n",
    "  plt.grid(visible=True, which='major', axis='both', color='lightgray', linestyle='-', linewidth=0.2)\n",
    "  plt.rc('ytick', labelsize=10)   \n",
    "  plt.show()\n",
    "\n",
    "def hist(data, name, bins=50):\n",
    "    plt.figure(figsize=(6,4))\n",
    "    plt.style.use('seaborn-whitegrid')\n",
    "    plt.hist(data, bins=bins, facecolor='#4ac2fb')\n",
    "    plt.title(name, fontsize=12)\n",
    "    plt.axvline(np.array(data.mean()), color='tomato', ls='--', lw=2)\n",
    "    plt.grid(visible=True, which='major', axis='both', color='lightgray', linestyle='--', linewidth=0.5)\n",
    "    plt.show()  "
   ]
  },
  {
   "cell_type": "code",
   "execution_count": 16,
   "metadata": {
    "colab": {
     "base_uri": "https://localhost:8080/",
     "height": 1000
    },
    "executionInfo": {
     "elapsed": 3065,
     "status": "ok",
     "timestamp": 1668413451592,
     "user": {
      "displayName": "徐锦雯",
      "userId": "07523249921587303598"
     },
     "user_tz": -480
    },
    "id": "0qYWul6gcdXo",
    "outputId": "d3d3658c-9aa7-45ab-d2f8-d3168e70b116"
   },
   "outputs": [
    {
     "data": {
      "image/png": "[encoded data removed]",
      "text/plain": [
       "<Figure size 432x144 with 1 Axes>"
      ]
     },
     "metadata": {
      "needs_background": "light"
     },
     "output_type": "display_data"
    },
    {
     "data": {
      "image/png": "[encoded data removed]",
      "text/plain": [
       "<Figure size 432x288 with 1 Axes>"
      ]
     },
     "metadata": {},
     "output_type": "display_data"
    },
    {
     "data": {
      "image/png": "[encoded data removed]",
      "text/plain": [
       "<Figure size 432x360 with 1 Axes>"
      ]
     },
     "metadata": {},
     "output_type": "display_data"
    },
    {
     "data": {
      "image/png": "[encoded data removed]",
      "text/plain": [
       "<Figure size 432x360 with 1 Axes>"
      ]
     },
     "metadata": {},
     "output_type": "display_data"
    },
    {
     "data": {
      "image/png": "[encoded data removed]",
      "text/plain": [
       "<Figure size 432x288 with 1 Axes>"
      ]
     },
     "metadata": {},
     "output_type": "display_data"
    },
    {
     "data": {
      "image/png": "[encoded data removed]",
      "text/plain": [
       "<Figure size 432x288 with 1 Axes>"
      ]
     },
     "metadata": {},
     "output_type": "display_data"
    },
    {
     "data": {
      "image/png": "[encoded data removed]",
      "text/plain": [
       "<Figure size 432x288 with 1 Axes>"
      ]
     },
     "metadata": {},
     "output_type": "display_data"
    },
    {
     "data": {
      "image/png": "[encoded data removed]",
      "text/plain": [
       "<Figure size 432x360 with 1 Axes>"
      ]
     },
     "metadata": {},
     "output_type": "display_data"
    },
    {
     "data": {
      "image/png": "[encoded data removed]",
      "text/plain": [
       "<Figure size 432x360 with 1 Axes>"
      ]
     },
     "metadata": {},
     "output_type": "display_data"
    },
    {
     "data": {
      "image/png": "[encoded data removed]",
      "text/plain": [
       "<Figure size 432x144 with 1 Axes>"
      ]
     },
     "metadata": {},
     "output_type": "display_data"
    },
    {
     "data": {
      "image/png": "[encoded data removed]",
      "text/plain": [
       "<Figure size 432x360 with 1 Axes>"
      ]
     },
     "metadata": {},
     "output_type": "display_data"
    },
    {
     "data": {
      "image/png": "[encoded data removed]",
      "text/plain": [
       "<Figure size 432x288 with 1 Axes>"
      ]
     },
     "metadata": {},
     "output_type": "display_data"
    },
    {
     "data": {
      "image/png": "[encoded data removed]",
      "text/plain": [
       "<Figure size 432x360 with 1 Axes>"
      ]
     },
     "metadata": {},
     "output_type": "display_data"
    },
    {
     "data": {
      "image/png": "[encoded data removed]",
      "text/plain": [
       "<Figure size 432x288 with 1 Axes>"
      ]
     },
     "metadata": {},
     "output_type": "display_data"
    },
    {
     "data": {
      "image/png": "[encoded data removed]",
      "text/plain": [
       "<Figure size 432x288 with 1 Axes>"
      ]
     },
     "metadata": {},
     "output_type": "display_data"
    }
   ],
   "source": [
    "for col in EDA_df.columns:\n",
    "  data = EDA_df[col].value_counts().sort_values()\n",
    "  if data.shape[0] <= 5:\n",
    "    bar(data, col, figsize=(6, 2))\n",
    "  elif data.shape[0] <= 20:\n",
    "    bar(data, col, figsize=(6, 5))\n",
    "  else:\n",
    "    hist(data, col)\n",
    "plt.show()"
   ]
  },
  {
   "cell_type": "code",
   "execution_count": 17,
   "metadata": {
    "colab": {
     "base_uri": "https://localhost:8080/",
     "height": 277
    },
    "executionInfo": {
     "elapsed": 12,
     "status": "ok",
     "timestamp": 1668413451592,
     "user": {
      "displayName": "徐锦雯",
      "userId": "07523249921587303598"
     },
     "user_tz": -480
    },
    "id": "y8rUbhgFjzKi",
    "outputId": "31251b67-9645-413b-b10f-5327febba9a2"
   },
   "outputs": [
    {
     "data": {
      "image/png": "[encoded data removed]",
      "text/plain": [
       "<Figure size 432x288 with 1 Axes>"
      ]
     },
     "metadata": {},
     "output_type": "display_data"
    }
   ],
   "source": [
    "data = EDA_race_df[['race_date', 'race_number']].groupby('race_date').count()['race_number']\n",
    "hist(data, 'Num of races in a race date')"
   ]
  },
  {
   "cell_type": "code",
   "execution_count": 18,
   "metadata": {
    "colab": {
     "base_uri": "https://localhost:8080/",
     "height": 277
    },
    "executionInfo": {
     "elapsed": 11,
     "status": "ok",
     "timestamp": 1668413451592,
     "user": {
      "displayName": "徐锦雯",
      "userId": "07523249921587303598"
     },
     "user_tz": -480
    },
    "id": "UTnPt-6Oj8TD",
    "outputId": "4191446b-ed82-4ce8-8c56-b36835f77c93"
   },
   "outputs": [
    {
     "data": {
      "image/png": "[encoded data removed]",
      "text/plain": [
       "<Figure size 432x288 with 1 Axes>"
      ]
     },
     "metadata": {},
     "output_type": "display_data"
    }
   ],
   "source": [
    "data = EDA_df[['race_date', 'race_number', 'program_number']].groupby(['race_date', 'race_number',]).count()['program_number']\n",
    "hist(data, 'Num of horses in a race')"
   ]
  },
  {
   "cell_type": "markdown",
   "metadata": {
    "id": "IKPbTps1crxY"
   },
   "source": [
    "# 4. Data Preprocessing"
   ]
  },
  {
   "cell_type": "code",
   "execution_count": 19,
   "metadata": {
    "colab": {
     "base_uri": "https://localhost:8080/"
    },
    "executionInfo": {
     "elapsed": 12,
     "status": "ok",
     "timestamp": 1668413451593,
     "user": {
      "displayName": "徐锦雯",
      "userId": "07523249921587303598"
     },
     "user_tz": -480
    },
    "id": "5nDbQ3xoVCxz",
    "outputId": "a7b692bd-16a3-497c-e229-373ef92da258"
   },
   "outputs": [
    {
     "data": {
      "text/plain": [
       "track_id              0\n",
       "race_date             0\n",
       "race_number           0\n",
       "weight_carried        0\n",
       "jockey                0\n",
       "odds                  0\n",
       "position_at_finish    0\n",
       "distance_id           0\n",
       "course_type           0\n",
       "track_condition       0\n",
       "run_up_distance       0\n",
       "race_type             0\n",
       "purse                 0\n",
       "post_time             0\n",
       "tavg                  0\n",
       "precipitation         0\n",
       "program_number        0\n",
       "horse_id              0\n",
       "injury                0\n",
       "dtype: int64"
      ]
     },
     "execution_count": 19,
     "metadata": {},
     "output_type": "execute_result"
    }
   ],
   "source": [
    "# Check whether there is any null value\n",
    "task1_df.isna().sum()"
   ]
  },
  {
   "cell_type": "code",
   "execution_count": 20,
   "metadata": {
    "id": "c8LYAiUfnPNG"
   },
   "outputs": [],
   "source": [
    "task1_df.sort_values(by=['track_id', 'race_date', 'race_number', 'program_number'], ascending=[True]*4, inplace=True)\n",
    "task1_df['id'] = range(1, task1_df.shape[0] +1)"
   ]
  },
  {
   "cell_type": "markdown",
   "metadata": {
    "id": "maipyqpyvZ2G"
   },
   "source": [
    "1. remove some outliers based on EDA results (task1_df_drop):\n",
    "  * remove race_date which have less than 8 races\n",
    "  * remove races which have less than 5 horses or more than 12 horses\n",
    "  * remove races whose 'course_type' are 'Hurdle' ('M')\n",
    "  * remove races whose 'track_condition' are 'Soft' ('SF')\n",
    "  * remove races whose 'distance_id' > 1200\n",
    "  * remove races whose 'race_type' are in 'Waiver Maiden Claiming', 'Starter Handicap' and 'Waiver Claiming' ('WMC','SHP','WCL')\n",
    "\n",
    "2. keep outliers (task1_df)"
   ]
  },
  {
   "cell_type": "code",
   "execution_count": 21,
   "metadata": {
    "colab": {
     "base_uri": "https://localhost:8080/"
    },
    "executionInfo": {
     "elapsed": 9,
     "status": "ok",
     "timestamp": 1668413451593,
     "user": {
      "displayName": "徐锦雯",
      "userId": "07523249921587303598"
     },
     "user_tz": -480
    },
    "id": "JzLx9qpCi21y",
    "outputId": "007385d5-6317-42f9-8871-36a0c03c2929"
   },
   "outputs": [
    {
     "name": "stdout",
     "output_type": "stream",
     "text": [
      "The original shape is: (14919, 20)\n",
      "Now the shape is: (14784, 20)\n",
      "Now the shape is: (14479, 20)\n",
      "Now the shape is: (14416, 20)\n",
      "Now the shape is: (14416, 20)\n",
      "Now the shape is: (14401, 20)\n",
      "Now the shape is: (14309, 20)\n"
     ]
    }
   ],
   "source": [
    "task1_df_drop = task1_df.copy()\n",
    "\n",
    "# remove race_date which have less than 8 races\n",
    "race_num = race_df[['race_date', 'race_number']].groupby('race_date').count()\n",
    "remove_race_dates = race_num[race_num['race_number']<8].index.tolist()\n",
    "print('The original shape is:', task1_df_drop.shape)\n",
    "task1_df_drop = task1_df_drop.drop(index=task1_df_drop[task1_df_drop['race_date'].isin(remove_race_dates)].index)\n",
    "print('Now the shape is:', task1_df_drop.shape)\n",
    "\n",
    "# remove races which have less than 5 horses or more than 12 horses\n",
    "horse_num = task1_df_drop[['race_date', 'race_number', 'program_number']].groupby(['race_date', 'race_number',]).count()\n",
    "remove_horse_num = horse_num[(horse_num['program_number']<5)|(horse_num['program_number']>12)].reset_index().iloc[:, :2]\n",
    "remove_horse_num = task1_df_drop.merge(remove_horse_num, on=['race_date', 'race_number'], how='inner')\n",
    "task1_df_drop = task1_df_drop.drop(index = task1_df_drop[task1_df_drop['id'].isin(remove_horse_num['id'].values)].index)\n",
    "print('Now the shape is:', task1_df_drop.shape)\n",
    "\n",
    "# remove races whose 'course_type' are 'Hurdle' ('M')\n",
    "task1_df_drop = task1_df_drop.drop(index=task1_df_drop[task1_df_drop['course_type'].isin(['M',])].index)\n",
    "print('Now the shape is:', task1_df_drop.shape)\n",
    "\n",
    "# remove races whose 'track_condition' are 'Soft' ('SF')\n",
    "task1_df_drop = task1_df_drop.drop(index=task1_df_drop[task1_df_drop['track_condition'].isin(['SF',])].index)\n",
    "print('Now the shape is:', task1_df_drop.shape)\n",
    "\n",
    "# remove races whose 'distance_id' > 1200\n",
    "task1_df_drop = task1_df_drop.drop(index=task1_df_drop[task1_df_drop['distance_id']>1200].index)\n",
    "print('Now the shape is:', task1_df_drop.shape)\n",
    "\n",
    "# remove races whose 'race_type' are in 'Waiver Maiden Claiming', 'Starter Handicap' and 'Waiver Claiming' ('WMC','SHP','WCL')\n",
    "race_types_to_remove = []\n",
    "for k, v in race_type_dict.items():\n",
    "  if v in ['Waiver Maiden Claiming', 'Starter Handicap', 'Waiver Claiming']:\n",
    "    race_types_to_remove.append(k)\n",
    "task1_df_drop = task1_df_drop.drop(index=task1_df_drop[task1_df_drop['race_type'].isin(['WMC','SHP','WCL'])].index)\n",
    "print('Now the shape is:', task1_df_drop.shape)"
   ]
  },
  {
   "cell_type": "markdown",
   "metadata": {
    "id": "dR0lZXVedTi5"
   },
   "source": [
    "# 5. Target Engineering\n",
    "\n",
    "Use position_at_finish (An integer of the horse's finishing position) to engineer a binary target to indicate if a jockey won a race or not."
   ]
  },
  {
   "cell_type": "code",
   "execution_count": 22,
   "metadata": {
    "id": "vqZUkTjraxax"
   },
   "outputs": [],
   "source": [
    "task1_df_drop = task1_df_drop.sort_values(by=['track_id', 'race_date', 'race_number', 'program_number'], ascending=[True]*4)"
   ]
  },
  {
   "cell_type": "markdown",
   "metadata": {
    "id": "MLDMSSd40A8s"
   },
   "source": [
    "1. Method 1 (Win): If position_at_finish is 1, it means that this jockey won the first place in a race, the target is 1; otherwise the target is 0. ('target_win)\n",
    "\n",
    "2. Method 2 (Place): If position_at_finish is 1, 2 or 3 , it means that the jockey won one of the first three places in a race, the target is 1; otherwise the target is 0. ('target_place')"
   ]
  },
  {
   "cell_type": "code",
   "execution_count": 23,
   "metadata": {
    "colab": {
     "base_uri": "https://localhost:8080/"
    },
    "executionInfo": {
     "elapsed": 7,
     "status": "ok",
     "timestamp": 1668413451593,
     "user": {
      "displayName": "徐锦雯",
      "userId": "07523249921587303598"
     },
     "user_tz": -480
    },
    "id": "0eiPuVWNrCQr",
    "outputId": "9e8db2b2-8109-4547-f851-4e7a8356edb5"
   },
   "outputs": [
    {
     "name": "stdout",
     "output_type": "stream",
     "text": [
      "If use method one (Win): \n",
      "\n",
      "0    12407\n",
      "1     1902\n",
      "Name: target_win, dtype: int64\n",
      "0    0.867077\n",
      "1    0.132923\n",
      "Name: target_win, dtype: float64\n",
      "If use method two (Place): \n",
      "\n",
      "0    8608\n",
      "1    5701\n",
      "Name: target_plc, dtype: int64\n",
      "0    0.601579\n",
      "1    0.398421\n",
      "Name: target_plc, dtype: float64\n"
     ]
    }
   ],
   "source": [
    "task1_df_drop = task1_df_drop.copy()\n",
    "\n",
    "task1_df_drop['target_win'] = (task1_df_drop['position_at_finish']==1).astype(int)\n",
    "print('If use method one (Win): \\n')\n",
    "print(task1_df_drop['target_win'].value_counts())\n",
    "print(task1_df_drop['target_win'].value_counts()/task1_df_drop.shape[0])\n",
    "\n",
    "task1_df_drop['target_plc'] = (task1_df_drop['position_at_finish']<4).astype(int)\n",
    "print('If use method two (Place): \\n')\n",
    "print(task1_df_drop['target_plc'].value_counts())\n",
    "print(task1_df_drop['target_plc'].value_counts()/task1_df_drop.shape[0])"
   ]
  },
  {
   "cell_type": "markdown",
   "metadata": {
    "id": "NnpZ4P2-dbbI"
   },
   "source": [
    "# 6. Feature Engineering\n",
    "* create dummy features for categorical features\n",
    "* create features from race_date and post_time\n",
    "* create descriptive statistical features\n",
    "* jockey: create id for jockey\n",
    "* jockey's previous win rate and place rate\n",
    "* horse's previous win rate and place rate"
   ]
  },
  {
   "cell_type": "markdown",
   "metadata": {
    "id": "j48iV66g9Aqx"
   },
   "source": [
    "## Create dummy features for categorical features"
   ]
  },
  {
   "cell_type": "code",
   "execution_count": 24,
   "metadata": {
    "id": "iPEZg2HRaxYX"
   },
   "outputs": [],
   "source": [
    "def post_time_(x):\n",
    "  #morning: before 1200, 0\n",
    "  #noon: 1200-1430, 1\n",
    "  #afternoon: 1430-1830, 2\n",
    "  #evening: 1830-2400, 3\n",
    "    \n",
    "  v = '1200'\n",
    "  if (x is None)|(x is np.nan):\n",
    "    v = '1200'\n",
    "  else:\n",
    "    x = str(x)\n",
    "    x1_, x2_ = int(x[:-2]), int(x[-2:])\n",
    "    if x1_ < 10:\n",
    "      x1_ = x1_ + 12\n",
    "    v = int(f'{x1_}{x2_}')\n",
    "  #r = -1\n",
    "  if v < 1200:\n",
    "    r = 0\n",
    "  elif v < 1430:\n",
    "    r = 1\n",
    "  elif v < 1830:\n",
    "    r = 2\n",
    "  else:\n",
    "    r = 3\n",
    "  return r"
   ]
  },
  {
   "cell_type": "code",
   "execution_count": 25,
   "metadata": {
    "colab": {
     "base_uri": "https://localhost:8080/"
    },
    "executionInfo": {
     "elapsed": 6,
     "status": "ok",
     "timestamp": 1668413451593,
     "user": {
      "displayName": "徐锦雯",
      "userId": "07523249921587303598"
     },
     "user_tz": -480
    },
    "id": "l2Nm8X1i7hws",
    "outputId": "6b820872-b39a-4fe6-e503-346a04ef1b84"
   },
   "outputs": [
    {
     "name": "stdout",
     "output_type": "stream",
     "text": [
      "Now the shape is: (14309, 49)\n"
     ]
    }
   ],
   "source": [
    "# create dummy features for categorical features\n",
    "\n",
    "task1_df_drop['race_date'] = pd.to_datetime(task1_df_drop['race_date'])\n",
    "task1_df_drop['weekday'] = task1_df_drop['race_date'].dt.weekday\n",
    "task1_df_drop['month'] = task1_df_drop['race_date'].dt.month\n",
    "task1_df_drop['post_time2'] = task1_df_drop['post_time'].apply(post_time_)\n",
    "\n",
    "for column in ['track_id', 'course_type', 'track_condition', 'race_type']:\n",
    "  dummies_ = pd.get_dummies(task1_df_drop[column])\n",
    "  dummy_feats_ =  [f'{column}={cc}' for cc in dummies_.columns]\n",
    "  dummies_.columns = dummy_feats_\n",
    "  task1_df_drop[dummy_feats_] = dummies_.values\n",
    "\n",
    "jockeys = task1_df_drop['jockey'].unique().tolist()\n",
    "jockey_ids = pd.DataFrame(index=jockeys, data={'jockey_id': range(1, len(jockeys)+1)}).to_dict()['jockey_id']\n",
    "task1_df_drop['jockey_id'] = task1_df_drop['jockey'].map(jockey_ids)\n",
    "\n",
    "horses = task1_df_drop['horse_id'].unique().tolist()\n",
    "horse_ids = pd.DataFrame(index=horses, data={'horse_id': range(1, len(horses)+1)}).to_dict()['horse_id']\n",
    "task1_df_drop['horse_id'] = task1_df_drop['horse_id'].map(horse_ids)\n",
    "\n",
    "print('Now the shape is:', task1_df_drop.shape)"
   ]
  },
  {
   "cell_type": "markdown",
   "metadata": {
    "id": "0BY3Os8uYarL"
   },
   "source": [
    "## create descriptive statistical features"
   ]
  },
  {
   "cell_type": "markdown",
   "metadata": {
    "id": "FT0wRb1tYc6J"
   },
   "source": [
    "### jockey"
   ]
  },
  {
   "cell_type": "markdown",
   "metadata": {
    "id": "LmH023HV80OU"
   },
   "source": [
    "* the descriptive statistical features of jockey's performances\n",
    "  * win rate before current rate_date\n",
    "  * place rate before current rate_date\n",
    "  * race count before current rate_date\n",
    "  * win rate/place rate of current course type/track"
   ]
  },
  {
   "cell_type": "code",
   "execution_count": 26,
   "metadata": {
    "colab": {
     "base_uri": "https://localhost:8080/"
    },
    "executionInfo": {
     "elapsed": 458,
     "status": "ok",
     "timestamp": 1668413452046,
     "user": {
      "displayName": "徐锦雯",
      "userId": "07523249921587303598"
     },
     "user_tz": -480
    },
    "id": "ul0mtmoE9HAi",
    "outputId": "95ede81e-0bb6-4aa4-eb90-2879e518c7da"
   },
   "outputs": [
    {
     "name": "stdout",
     "output_type": "stream",
     "text": [
      "Now the shape is: (14309, 62)\n"
     ]
    }
   ],
   "source": [
    "perf = task1_df_drop[['jockey', 'race_date', 'position_at_finish']].groupby(['jockey', 'race_date']).count()\n",
    "perf.columns = ['perf_cnt']\n",
    "wins = task1_df_drop.loc[task1_df_drop['position_at_finish']<2,['jockey','race_date','position_at_finish']].groupby(['jockey','race_date']).count()\n",
    "wins.columns = ['win_cnt']\n",
    "places = task1_df_drop.loc[task1_df_drop['position_at_finish']<4,['jockey','race_date','position_at_finish']].groupby(['jockey','race_date']).count()\n",
    "places.columns=['place_cnt']\n",
    "\n",
    "perf = perf.reset_index()\n",
    "wins = wins.reset_index()\n",
    "places = places.reset_index()\n",
    "perf.sort_values(by=['jockey', 'race_date'], ascending=[True]*2, inplace=True)\n",
    "wins.sort_values(by=['jockey', 'race_date'], ascending=[True]*2, inplace=True)\n",
    "places.sort_values(by=['jockey', 'race_date'], ascending=[True]*2, inplace=True)\n",
    "\n",
    "perf = perf.merge(wins, on=['jockey', 'race_date'], how='left')\n",
    "perf = perf.merge(places, on=['jockey', 'race_date'], how='left')\n",
    "perf.fillna(0, inplace=True)\n",
    "\n",
    "cumsum = perf.groupby('jockey').cumsum()\n",
    "perf['perf_cumsum'] = cumsum['perf_cnt']\n",
    "perf['win_rate'] = cumsum['win_cnt']/cumsum['perf_cnt']\n",
    "perf['place_rate'] = cumsum['place_cnt']/cumsum['perf_cnt']\n",
    "\n",
    "perf_ = perf.groupby('jockey').shift(1)\n",
    "for column in perf_.columns:\n",
    "    perf[f'pre_{column}'] = perf_[column]\n",
    "perf.fillna(0, inplace=True)\n",
    "\n",
    "task1_df_drop = task1_df_drop.merge(perf, on=['jockey', 'race_date'], how='left')\n",
    "print('Now the shape is:', task1_df_drop.shape)"
   ]
  },
  {
   "cell_type": "code",
   "execution_count": 27,
   "metadata": {
    "id": "CMB9Mlec9Gz-"
   },
   "outputs": [],
   "source": [
    "task1_df_drop['win'] = (task1_df_drop['position_at_finish']<2).astype(int)\n",
    "task1_df_drop['place'] = (task1_df_drop['position_at_finish']<4).astype(int)"
   ]
  },
  {
   "cell_type": "code",
   "execution_count": 28,
   "metadata": {
    "colab": {
     "base_uri": "https://localhost:8080/"
    },
    "executionInfo": {
     "elapsed": 6254,
     "status": "ok",
     "timestamp": 1668413458298,
     "user": {
      "displayName": "徐锦雯",
      "userId": "07523249921587303598"
     },
     "user_tz": -480
    },
    "id": "13SdK8bV9Gqi",
    "outputId": "390296c3-f89c-4564-eba6-b93be5968ae2"
   },
   "outputs": [
    {
     "name": "stdout",
     "output_type": "stream",
     "text": [
      "Series([], dtype: int64)\n",
      "Now the shape is: (14309, 78)\n"
     ]
    }
   ],
   "source": [
    "jockeys = task1_df_drop['jockey'].value_counts()[task1_df_drop['jockey'].value_counts()>=10].index.values.tolist()\n",
    "race_days = race_df['race_date'].unique().tolist()\n",
    "race_days.sort()\n",
    "\n",
    "data = pd.pivot_table(task1_df_drop, index=['race_date'], columns=['jockey'], values=['win', 'place'], \n",
    "               aggfunc={'win': [np.sum, np.size], 'place': np.sum} )\n",
    "data.sort_index(ascending=True, inplace=True)\n",
    "\n",
    "dfs_pre = []\n",
    "for jk in jockeys:\n",
    "  data_i = data[[('place','sum',jk), ('win','size',jk), ('win','sum',jk)]].fillna(0)\n",
    "  data_i.columns = ['place', 'run', 'win']\n",
    "\n",
    "  data_i['plc_sum'] = data_i['place'].rolling(31).apply(lambda x: x[:-1].sum())\n",
    "  data_i['win_sum'] = data_i['win'].rolling(31).apply(lambda x: x[:-1].sum())\n",
    "  data_i['run_sum'] = data_i['run'].rolling(31).apply(lambda x: x[:-1].sum())\n",
    "\n",
    "  data_i['plc_rate'] = data_i['plc_sum'] / data_i['run_sum']\n",
    "  data_i['win_rate'] = data_i['win_sum'] / data_i['run_sum']\n",
    "  data_i['jockey'] = jk\n",
    "    \n",
    "  for col in ['plc_rate', 'win_rate']:\n",
    "    for i in [3, 5, 10]:\n",
    "      data_i[f'{col}_diff{i}'] = data_i[col].diff(i)\n",
    "  dfs_pre.append(data_i.reset_index())\n",
    "df_pre = pd.concat(dfs_pre)\n",
    "\n",
    "new_cols = []\n",
    "for col in df_pre.columns:\n",
    "    if col in ['jockey', 'race_date']:\n",
    "        new_cols.append(col)\n",
    "    else:\n",
    "        new_cols.append(f'pre31_{col}')\n",
    "df_pre.columns = new_cols\n",
    "\n",
    "task1_df_drop = task1_df_drop.merge(df_pre, on=['jockey', 'race_date'], how='left')\n",
    "\n",
    "task1_df_drop = task1_df_drop.replace([-np.inf, np.inf], np.nan)\n",
    "task1_df_drop = task1_df_drop.fillna(0)\n",
    "print(task1_df_drop.isna().sum()[task1_df_drop.isna().sum()>0])\n",
    "\n",
    "print('Now the shape is:', task1_df_drop.shape)"
   ]
  },
  {
   "cell_type": "markdown",
   "metadata": {
    "id": "_RYu3MhrYgf3"
   },
   "source": [
    "### horse"
   ]
  },
  {
   "cell_type": "markdown",
   "metadata": {
    "id": "T0BejNDPX3sK"
   },
   "source": [
    "* the descriptive statistical features of horse's performances\n",
    "  * win rate before current rate_date\n",
    "  * place rate before current rate_date\n",
    "  * race count before current rate_date\n",
    "  * win rate/place rate of current course type/track"
   ]
  },
  {
   "cell_type": "code",
   "execution_count": 29,
   "metadata": {
    "colab": {
     "base_uri": "https://localhost:8080/"
    },
    "executionInfo": {
     "elapsed": 23,
     "status": "ok",
     "timestamp": 1668413458298,
     "user": {
      "displayName": "徐锦雯",
      "userId": "07523249921587303598"
     },
     "user_tz": -480
    },
    "id": "95_rs4nOX3sK",
    "outputId": "bdd36af7-438b-4446-e1c1-f2fd5ae5aa43"
   },
   "outputs": [
    {
     "name": "stdout",
     "output_type": "stream",
     "text": [
      "Now the shape is: (14309, 91)\n"
     ]
    }
   ],
   "source": [
    "hperf = task1_df_drop[['horse_id', 'race_date', 'position_at_finish']].groupby(['horse_id', 'race_date']).count()\n",
    "hperf.columns = ['hperf_cnt']\n",
    "hwins = task1_df_drop.loc[task1_df_drop['position_at_finish']<2,['horse_id','race_date','position_at_finish']].groupby(['horse_id','race_date']).count()\n",
    "hwins.columns = ['hwin_cnt']\n",
    "hplaces = task1_df_drop.loc[task1_df_drop['position_at_finish']<4,['horse_id','race_date','position_at_finish']].groupby(['horse_id','race_date']).count()\n",
    "hplaces.columns=['hplace_cnt']\n",
    "\n",
    "hperf = hperf.reset_index()\n",
    "hwins = hwins.reset_index()\n",
    "hplaces = hplaces.reset_index()\n",
    "hperf.sort_values(by=['horse_id', 'race_date'], ascending=[True]*2, inplace=True)\n",
    "hwins.sort_values(by=['horse_id', 'race_date'], ascending=[True]*2, inplace=True)\n",
    "hplaces.sort_values(by=['horse_id', 'race_date'], ascending=[True]*2, inplace=True)\n",
    "\n",
    "hperf = hperf.merge(hwins, on=['horse_id', 'race_date'], how='left')\n",
    "hperf = hperf.merge(hplaces, on=['horse_id', 'race_date'], how='left')\n",
    "hperf.fillna(0, inplace=True)\n",
    "\n",
    "cumsum = hperf.groupby('horse_id').cumsum()\n",
    "hperf['hperf_cumsum'] = cumsum['hperf_cnt']\n",
    "hperf['hwin_rate'] = cumsum['hwin_cnt']/cumsum['hperf_cnt']\n",
    "hperf['hplace_rate'] = cumsum['hplace_cnt']/cumsum['hperf_cnt']\n",
    "\n",
    "hperf_ = hperf.groupby('horse_id').shift(1)\n",
    "for column in hperf_.columns:\n",
    "    hperf[f'pre_{column}'] = hperf_[column]\n",
    "hperf.fillna(0, inplace=True)\n",
    "\n",
    "task1_df_drop = task1_df_drop.merge(hperf, on=['horse_id', 'race_date'], how='left')\n",
    "print('Now the shape is:', task1_df_drop.shape)"
   ]
  },
  {
   "cell_type": "code",
   "execution_count": 30,
   "metadata": {
    "id": "90BKW1z8X3sL"
   },
   "outputs": [],
   "source": [
    "task1_df_drop['win'] = (task1_df_drop['position_at_finish']<2).astype(int)\n",
    "task1_df_drop['place'] = (task1_df_drop['position_at_finish']<4).astype(int)"
   ]
  },
  {
   "cell_type": "code",
   "execution_count": 31,
   "metadata": {
    "colab": {
     "base_uri": "https://localhost:8080/"
    },
    "executionInfo": {
     "elapsed": 17934,
     "status": "ok",
     "timestamp": 1668413476214,
     "user": {
      "displayName": "徐锦雯",
      "userId": "07523249921587303598"
     },
     "user_tz": -480
    },
    "id": "nTptvqOwX3sL",
    "outputId": "e1019be9-7592-4584-a92e-9f2b84e7397d"
   },
   "outputs": [
    {
     "name": "stdout",
     "output_type": "stream",
     "text": [
      "Series([], dtype: int64)\n",
      "Now the shape is: (14309, 105)\n"
     ]
    }
   ],
   "source": [
    "horses = task1_df_drop['horse_id'].value_counts()[task1_df_drop['horse_id'].value_counts()>=10].index.values.tolist()\n",
    "race_days = race_df['race_date'].unique().tolist()\n",
    "race_days.sort()\n",
    "\n",
    "hdata = pd.pivot_table(task1_df_drop, index=['race_date'], columns=['horse_id'], values=['win', 'place'], \n",
    "               aggfunc={'win': [np.sum, np.size], 'place': np.sum} )\n",
    "hdata.sort_index(ascending=True, inplace=True)\n",
    "\n",
    "dfs_hpre = []\n",
    "for jk in horses:\n",
    "  hdata_i = hdata[[('place','sum',jk), ('win','size',jk), ('win','sum',jk)]].fillna(0)\n",
    "  hdata_i.columns = ['place', 'run', 'win']\n",
    "\n",
    "  hdata_i['hplc_sum'] = hdata_i['place'].rolling(31).apply(lambda x: x[:-1].sum())\n",
    "  hdata_i['hwin_sum'] = hdata_i['win'].rolling(31).apply(lambda x: x[:-1].sum())\n",
    "  hdata_i['hrun_sum'] = hdata_i['run'].rolling(31).apply(lambda x: x[:-1].sum())\n",
    "\n",
    "  hdata_i['hplc_rate'] = hdata_i['hplc_sum'] / hdata_i['hrun_sum']\n",
    "  hdata_i['hwin_rate'] = hdata_i['hwin_sum'] / hdata_i['hrun_sum']\n",
    "  hdata_i['horse_id'] = jk\n",
    "    \n",
    "  for col in ['hplc_rate', 'hwin_rate']:\n",
    "    for i in [3, 5, 10]:\n",
    "      hdata_i[f'{col}_diff{i}'] = hdata_i[col].diff(i)\n",
    "  dfs_hpre.append(hdata_i.reset_index())\n",
    "df_hpre = pd.concat(dfs_hpre)\n",
    "\n",
    "new_cols = []\n",
    "for col in df_hpre.columns:\n",
    "    if col in ['horse_id', 'race_date']:\n",
    "        new_cols.append(col)\n",
    "    else:\n",
    "        new_cols.append(f'pre31_{col}')\n",
    "df_hpre.columns = new_cols\n",
    "\n",
    "task1_df_drop = task1_df_drop.merge(df_hpre, on=['horse_id', 'race_date'], how='left')\n",
    "\n",
    "task1_df_drop = task1_df_drop.replace([-np.inf, np.inf], np.nan)\n",
    "task1_df_drop = task1_df_drop.fillna(0)\n",
    "print(task1_df_drop.isna().sum()[task1_df_drop.isna().sum()>0])\n",
    "\n",
    "print('Now the shape is:', task1_df_drop.shape)"
   ]
  },
  {
   "cell_type": "code",
   "execution_count": 32,
   "metadata": {
    "id": "i3x30XQDX3sL"
   },
   "outputs": [],
   "source": [
    "task1_df_drop.drop(['pre_race_date_y'], axis = 1, inplace = True)\n",
    "task1_df_drop.rename(columns={'pre_race_date_x':'pre_race_date'}, inplace =True)\n",
    "task1_df_drop.drop(['pre31_place_y'], axis = 1, inplace = True)\n",
    "task1_df_drop.rename(columns={'pre31_place_x':'pre31_place'}, inplace =True)\n",
    "task1_df_drop.drop(['pre31_run_y'], axis = 1, inplace = True)\n",
    "task1_df_drop.rename(columns={'pre31_run_x':'pre31_run'}, inplace =True)\n",
    "task1_df_drop.drop(['pre31_win_y'], axis = 1, inplace = True)\n",
    "task1_df_drop.rename(columns={'pre31_win_x':'pre31_win'}, inplace =True)"
   ]
  },
  {
   "cell_type": "code",
   "execution_count": 33,
   "metadata": {
    "colab": {
     "base_uri": "https://localhost:8080/"
    },
    "executionInfo": {
     "elapsed": 24,
     "status": "ok",
     "timestamp": 1668413476215,
     "user": {
      "displayName": "徐锦雯",
      "userId": "07523249921587303598"
     },
     "user_tz": -480
    },
    "id": "oxmkrDlpejv2",
    "outputId": "41de2b8c-b3b6-4b0d-97a2-60cf7df77f1c"
   },
   "outputs": [
    {
     "name": "stdout",
     "output_type": "stream",
     "text": [
      "<class 'pandas.core.frame.DataFrame'>\n",
      "Int64Index: 14309 entries, 0 to 14308\n",
      "Data columns (total 101 columns):\n",
      " #    Column                  Non-Null Count  Dtype         \n",
      "---   ------                  --------------  -----         \n",
      " 0    track_id                14309 non-null  object        \n",
      " 1    race_date               14309 non-null  datetime64[ns]\n",
      " 2    race_number             14309 non-null  int64         \n",
      " 3    weight_carried          14309 non-null  int64         \n",
      " 4    jockey                  14309 non-null  object        \n",
      " 5    odds                    14309 non-null  int64         \n",
      " 6    position_at_finish      14309 non-null  int64         \n",
      " 7    distance_id             14309 non-null  int64         \n",
      " 8    course_type             14309 non-null  object        \n",
      " 9    track_condition         14309 non-null  object        \n",
      " 10   run_up_distance         14309 non-null  int64         \n",
      " 11   race_type               14309 non-null  object        \n",
      " 12   purse                   14309 non-null  int64         \n",
      " 13   post_time               14309 non-null  int64         \n",
      " 14   tavg                    14309 non-null  int64         \n",
      " 15   precipitation           14309 non-null  int64         \n",
      " 16   program_number          14309 non-null  object        \n",
      " 17   horse_id                14309 non-null  int64         \n",
      " 18   injury                  14309 non-null  int64         \n",
      " 19   id                      14309 non-null  int64         \n",
      " 20   target_win              14309 non-null  int64         \n",
      " 21   target_plc              14309 non-null  int64         \n",
      " 22   weekday                 14309 non-null  int64         \n",
      " 23   month                   14309 non-null  int64         \n",
      " 24   post_time2              14309 non-null  int64         \n",
      " 25   track_id=AQU            14309 non-null  uint8         \n",
      " 26   track_id=BEL            14309 non-null  uint8         \n",
      " 27   track_id=SAR            14309 non-null  uint8         \n",
      " 28   course_type=D           14309 non-null  uint8         \n",
      " 29   course_type=I           14309 non-null  uint8         \n",
      " 30   course_type=O           14309 non-null  uint8         \n",
      " 31   course_type=T           14309 non-null  uint8         \n",
      " 32   track_condition=FM      14309 non-null  uint8         \n",
      " 33   track_condition=FT      14309 non-null  uint8         \n",
      " 34   track_condition=GD      14309 non-null  uint8         \n",
      " 35   track_condition=MY      14309 non-null  uint8         \n",
      " 36   track_condition=SF      14309 non-null  uint8         \n",
      " 37   track_condition=SY      14309 non-null  uint8         \n",
      " 38   track_condition=YL      14309 non-null  uint8         \n",
      " 39   race_type=ALW           14309 non-null  uint8         \n",
      " 40   race_type=AOC           14309 non-null  uint8         \n",
      " 41   race_type=CLM           14309 non-null  uint8         \n",
      " 42   race_type=MCL           14309 non-null  uint8         \n",
      " 43   race_type=MSW           14309 non-null  uint8         \n",
      " 44   race_type=SOC           14309 non-null  uint8         \n",
      " 45   race_type=SST           14309 non-null  uint8         \n",
      " 46   race_type=STK           14309 non-null  uint8         \n",
      " 47   race_type=STR           14309 non-null  uint8         \n",
      " 48   jockey_id               14309 non-null  int64         \n",
      " 49   perf_cnt                14309 non-null  int64         \n",
      " 50   win_cnt                 14309 non-null  float64       \n",
      " 51   place_cnt               14309 non-null  float64       \n",
      " 52   perf_cumsum             14309 non-null  int64         \n",
      " 53   win_rate                14309 non-null  float64       \n",
      " 54   place_rate              14309 non-null  float64       \n",
      " 55   pre_race_date           14309 non-null  object        \n",
      " 56   pre_perf_cnt            14309 non-null  float64       \n",
      " 57   pre_win_cnt             14309 non-null  float64       \n",
      " 58   pre_place_cnt           14309 non-null  float64       \n",
      " 59   pre_perf_cumsum         14309 non-null  float64       \n",
      " 60   pre_win_rate            14309 non-null  float64       \n",
      " 61   pre_place_rate          14309 non-null  float64       \n",
      " 62   win                     14309 non-null  int64         \n",
      " 63   place                   14309 non-null  int64         \n",
      " 64   pre31_place             14309 non-null  float64       \n",
      " 65   pre31_run               14309 non-null  float64       \n",
      " 66   pre31_win               14309 non-null  float64       \n",
      " 67   pre31_plc_sum           14309 non-null  float64       \n",
      " 68   pre31_win_sum           14309 non-null  float64       \n",
      " 69   pre31_run_sum           14309 non-null  float64       \n",
      " 70   pre31_plc_rate          14309 non-null  float64       \n",
      " 71   pre31_win_rate          14309 non-null  float64       \n",
      " 72   pre31_plc_rate_diff3    14309 non-null  float64       \n",
      " 73   pre31_plc_rate_diff5    14309 non-null  float64       \n",
      " 74   pre31_plc_rate_diff10   14309 non-null  float64       \n",
      " 75   pre31_win_rate_diff3    14309 non-null  float64       \n",
      " 76   pre31_win_rate_diff5    14309 non-null  float64       \n",
      " 77   pre31_win_rate_diff10   14309 non-null  float64       \n",
      " 78   hperf_cnt               14309 non-null  int64         \n",
      " 79   hwin_cnt                14309 non-null  float64       \n",
      " 80   hplace_cnt              14309 non-null  float64       \n",
      " 81   hperf_cumsum            14309 non-null  int64         \n",
      " 82   hwin_rate               14309 non-null  float64       \n",
      " 83   hplace_rate             14309 non-null  float64       \n",
      " 84   pre_hperf_cnt           14309 non-null  float64       \n",
      " 85   pre_hwin_cnt            14309 non-null  float64       \n",
      " 86   pre_hplace_cnt          14309 non-null  float64       \n",
      " 87   pre_hperf_cumsum        14309 non-null  float64       \n",
      " 88   pre_hwin_rate           14309 non-null  float64       \n",
      " 89   pre_hplace_rate         14309 non-null  float64       \n",
      " 90   pre31_hplc_sum          14309 non-null  float64       \n",
      " 91   pre31_hwin_sum          14309 non-null  float64       \n",
      " 92   pre31_hrun_sum          14309 non-null  float64       \n",
      " 93   pre31_hplc_rate         14309 non-null  float64       \n",
      " 94   pre31_hwin_rate         14309 non-null  float64       \n",
      " 95   pre31_hplc_rate_diff3   14309 non-null  float64       \n",
      " 96   pre31_hplc_rate_diff5   14309 non-null  float64       \n",
      " 97   pre31_hplc_rate_diff10  14309 non-null  float64       \n",
      " 98   pre31_hwin_rate_diff3   14309 non-null  float64       \n",
      " 99   pre31_hwin_rate_diff5   14309 non-null  float64       \n",
      " 100  pre31_hwin_rate_diff10  14309 non-null  float64       \n",
      "dtypes: datetime64[ns](1), float64(45), int64(25), object(7), uint8(23)\n",
      "memory usage: 8.9+ MB\n"
     ]
    }
   ],
   "source": [
    "pd.options.display.max_info_columns = 200\n",
    "task1_df_drop.info()"
   ]
  },
  {
   "cell_type": "markdown",
   "metadata": {
    "id": "ltYSn87EElf6"
   },
   "source": [
    "# 7. Models for prediction\n",
    "\n",
    "* create training and testing data\n",
    "* Define multiple models for prediction\n",
    "* Compare the performance of models"
   ]
  },
  {
   "cell_type": "code",
   "execution_count": 34,
   "metadata": {
    "colab": {
     "base_uri": "https://localhost:8080/"
    },
    "executionInfo": {
     "elapsed": 22,
     "status": "ok",
     "timestamp": 1668413476215,
     "user": {
      "displayName": "徐锦雯",
      "userId": "07523249921587303598"
     },
     "user_tz": -480
    },
    "id": "zchP_AqPl37g",
    "outputId": "e5443bb3-14d4-43b7-cb51-b37939d2fd75"
   },
   "outputs": [
    {
     "data": {
      "text/plain": [
       "array(['track_id', 'race_date', 'race_number', 'weight_carried', 'jockey',\n",
       "       'odds', 'position_at_finish', 'distance_id', 'course_type',\n",
       "       'track_condition', 'run_up_distance', 'race_type', 'purse',\n",
       "       'post_time', 'tavg', 'precipitation', 'program_number', 'horse_id',\n",
       "       'injury', 'id', 'target_win', 'target_plc', 'weekday', 'month',\n",
       "       'post_time2', 'track_id=AQU', 'track_id=BEL', 'track_id=SAR',\n",
       "       'course_type=D', 'course_type=I', 'course_type=O', 'course_type=T',\n",
       "       'track_condition=FM ', 'track_condition=FT ',\n",
       "       'track_condition=GD ', 'track_condition=MY ',\n",
       "       'track_condition=SF ', 'track_condition=SY ',\n",
       "       'track_condition=YL ', 'race_type=ALW', 'race_type=AOC',\n",
       "       'race_type=CLM', 'race_type=MCL', 'race_type=MSW', 'race_type=SOC',\n",
       "       'race_type=SST', 'race_type=STK', 'race_type=STR', 'jockey_id',\n",
       "       'perf_cnt', 'win_cnt', 'place_cnt', 'perf_cumsum', 'win_rate',\n",
       "       'place_rate', 'pre_race_date', 'pre_perf_cnt', 'pre_win_cnt',\n",
       "       'pre_place_cnt', 'pre_perf_cumsum', 'pre_win_rate',\n",
       "       'pre_place_rate', 'win', 'place', 'pre31_place', 'pre31_run',\n",
       "       'pre31_win', 'pre31_plc_sum', 'pre31_win_sum', 'pre31_run_sum',\n",
       "       'pre31_plc_rate', 'pre31_win_rate', 'pre31_plc_rate_diff3',\n",
       "       'pre31_plc_rate_diff5', 'pre31_plc_rate_diff10',\n",
       "       'pre31_win_rate_diff3', 'pre31_win_rate_diff5',\n",
       "       'pre31_win_rate_diff10', 'hperf_cnt', 'hwin_cnt', 'hplace_cnt',\n",
       "       'hperf_cumsum', 'hwin_rate', 'hplace_rate', 'pre_hperf_cnt',\n",
       "       'pre_hwin_cnt', 'pre_hplace_cnt', 'pre_hperf_cumsum',\n",
       "       'pre_hwin_rate', 'pre_hplace_rate', 'pre31_hplc_sum',\n",
       "       'pre31_hwin_sum', 'pre31_hrun_sum', 'pre31_hplc_rate',\n",
       "       'pre31_hwin_rate', 'pre31_hplc_rate_diff3',\n",
       "       'pre31_hplc_rate_diff5', 'pre31_hplc_rate_diff10',\n",
       "       'pre31_hwin_rate_diff3', 'pre31_hwin_rate_diff5',\n",
       "       'pre31_hwin_rate_diff10'], dtype=object)"
      ]
     },
     "execution_count": 34,
     "metadata": {},
     "output_type": "execute_result"
    }
   ],
   "source": [
    "task1_df_drop.columns.values"
   ]
  },
  {
   "cell_type": "code",
   "execution_count": 35,
   "metadata": {
    "colab": {
     "base_uri": "https://localhost:8080/"
    },
    "executionInfo": {
     "elapsed": 19,
     "status": "ok",
     "timestamp": 1668413476215,
     "user": {
      "displayName": "徐锦雯",
      "userId": "07523249921587303598"
     },
     "user_tz": -480
    },
    "id": "Uylkkzh-axU6",
    "outputId": "e31268aa-adb4-4c6f-b9da-5b89c6db777f"
   },
   "outputs": [
    {
     "data": {
      "text/plain": [
       "79"
      ]
     },
     "execution_count": 35,
     "metadata": {},
     "output_type": "execute_result"
    }
   ],
   "source": [
    "features = ['weight_carried', 'odds', 'distance_id', 'run_up_distance', 'tavg', 'precipitation','horse_id',\n",
    "       'injury','purse', 'weekday', 'month', \n",
    "       'post_time2', 'track_id=AQU', 'track_id=BEL', 'track_id=SAR', 'course_type=D', \n",
    "       'course_type=I', 'course_type=O', 'course_type=T', 'track_condition=FM ', 'track_condition=FT ', \n",
    "       'track_condition=GD ', 'track_condition=MY ', 'track_condition=SF ', 'track_condition=SY ',\n",
    "       'track_condition=YL ', 'race_type=ALW', 'race_type=AOC', 'race_type=CLM', 'race_type=MCL', \n",
    "       'race_type=MSW', 'race_type=SOC', 'race_type=SST', 'race_type=STK', 'race_type=STR', 'jockey_id', \n",
    "       'pre_perf_cnt', 'pre_win_cnt', 'pre_place_cnt', 'pre_perf_cumsum', 'pre_win_rate', 'pre_place_rate',\n",
    "       'pre31_place', 'pre31_run', 'pre31_win', 'pre31_plc_sum', 'pre31_win_sum', 'pre31_run_sum', \n",
    "       'pre31_plc_rate', 'pre31_win_rate', 'pre31_plc_rate_diff3', 'pre31_plc_rate_diff5', \n",
    "       'pre31_plc_rate_diff10', 'pre31_win_rate_diff3', 'pre31_win_rate_diff5', 'pre31_win_rate_diff10','hperf_cnt', 'hwin_cnt', 'hplace_cnt',\n",
    "       'hperf_cumsum', 'hwin_rate', 'hplace_rate', 'pre_hperf_cnt',\n",
    "       'pre_hwin_cnt', 'pre_hplace_cnt', 'pre_hperf_cumsum',\n",
    "       'pre_hwin_rate', 'pre_hplace_rate', 'pre31_hplc_sum',\n",
    "       'pre31_hwin_sum', 'pre31_hrun_sum', 'pre31_hplc_rate',\n",
    "       'pre31_hwin_rate', 'pre31_hplc_rate_diff3',\n",
    "       'pre31_hplc_rate_diff5', 'pre31_hplc_rate_diff10',\n",
    "       'pre31_hwin_rate_diff3', 'pre31_hwin_rate_diff5',\n",
    "       'pre31_hwin_rate_diff10']\n",
    "len(features)"
   ]
  },
  {
   "cell_type": "code",
   "execution_count": 36,
   "metadata": {
    "colab": {
     "base_uri": "https://localhost:8080/"
    },
    "executionInfo": {
     "elapsed": 17,
     "status": "ok",
     "timestamp": 1668413476215,
     "user": {
      "displayName": "徐锦雯",
      "userId": "07523249921587303598"
     },
     "user_tz": -480
    },
    "id": "U1EXJi1PEjCF",
    "outputId": "33af10be-3063-4b0d-91cd-482299e27d5b"
   },
   "outputs": [
    {
     "name": "stdout",
     "output_type": "stream",
     "text": [
      "(10409, 101) (3093, 101)\n"
     ]
    }
   ],
   "source": [
    "train_start, train_end = '2019-02-01', '2019-10-15'\n",
    "test_start, test_end = '2019-10-15', '2020-01-01'\n",
    "\n",
    "df_train = task1_df_drop[(task1_df_drop['race_date']>=train_start) & (task1_df_drop['race_date']<train_end)].copy()\n",
    "df_test = task1_df_drop[(task1_df_drop['race_date']>=test_start) & (task1_df_drop['race_date']<test_end)].copy()\n",
    "\n",
    "print(df_train.shape, df_test.shape)"
   ]
  },
  {
   "cell_type": "code",
   "execution_count": 37,
   "metadata": {
    "colab": {
     "base_uri": "https://localhost:8080/"
    },
    "executionInfo": {
     "elapsed": 16,
     "status": "ok",
     "timestamp": 1668413476215,
     "user": {
      "displayName": "徐锦雯",
      "userId": "07523249921587303598"
     },
     "user_tz": -480
    },
    "id": "Yqi3sT4V_uR2",
    "outputId": "063de1ba-80ab-42bf-9616-309e5def365e"
   },
   "outputs": [
    {
     "name": "stdout",
     "output_type": "stream",
     "text": [
      "(10409, 79) (3093, 79) (10409,) (3093,) (10409,) (3093,)\n"
     ]
    }
   ],
   "source": [
    "X_train, X_test = df_train[features], df_test[features]\n",
    "y_train_win, y_test_win = df_train['target_win'], df_test['target_win']\n",
    "y_train_plc, y_test_plc = df_train['target_plc'], df_test['target_plc']\n",
    "print(X_train.shape, X_test.shape, y_train_win.shape, y_test_win.shape, y_train_plc.shape, y_test_plc.shape)"
   ]
  },
  {
   "cell_type": "code",
   "execution_count": 38,
   "metadata": {
    "id": "jrctjvInAMin"
   },
   "outputs": [],
   "source": [
    "win_models, plc_models = {}, {}"
   ]
  },
  {
   "cell_type": "markdown",
   "metadata": {
    "id": "oyUe4FNOQAzE"
   },
   "source": [
    "## **Model 1: Logistic Regression**"
   ]
  },
  {
   "cell_type": "code",
   "execution_count": 39,
   "metadata": {
    "colab": {
     "base_uri": "https://localhost:8080/"
    },
    "executionInfo": {
     "elapsed": 15,
     "status": "ok",
     "timestamp": 1668413476215,
     "user": {
      "displayName": "徐锦雯",
      "userId": "07523249921587303598"
     },
     "user_tz": -480
    },
    "id": "l7lqInngQFAI",
    "outputId": "cd9ad749-471f-4931-e8ff-eeeea62a070e"
   },
   "outputs": [
    {
     "name": "stdout",
     "output_type": "stream",
     "text": [
      "For predicting Win:\n",
      "The confusion matrix of Logistic Regression:\n",
      " [[   0  380]\n",
      " [   0 2713]]\n",
      "The auc_score of Logistic Regression:  0.50000\n",
      "The acc_score of Logistic Regression:  0.87714\n",
      "The F-measure of Logistic Regression:  0.00000\n",
      "The recall of Logistic Regression:  0.00000\n",
      "The precision of Logistic Regression:  0.00000\n"
     ]
    }
   ],
   "source": [
    "from sklearn.linear_model import LogisticRegression\n",
    "\n",
    "logistic_reg = LogisticRegression()\n",
    "logistic_reg.fit(X_train, y_train_win)\n",
    "y_pred_win_log = logistic_reg.predict(X_test)\n",
    "\n",
    "cm_win_log = confusion_matrix(y_test_win, y_pred_win_log, labels=[1, 0])\n",
    "auc_win_log = roc_auc_score(y_test_win, y_pred_win_log)\n",
    "acc_win_log = accuracy_score(y_test_win, y_pred_win_log)\n",
    "f1_win_log = f1_score(y_test_win, y_pred_win_log, labels=[1, 0])\n",
    "recall_win_log = recall_score(y_test_win, y_pred_win_log, labels=[1, 0])\n",
    "precision_win_log = precision_score(y_test_win, y_pred_win_log, labels=[1, 0])\n",
    "\n",
    "print('For predicting Win:')\n",
    "print('The confusion matrix of Logistic Regression:\\n', cm_win_log)\n",
    "print(f'The auc_score of Logistic Regression: {auc_win_log: .05f}')\n",
    "print(f'The acc_score of Logistic Regression: {acc_win_log: .05f}')\n",
    "print(f'The F-measure of Logistic Regression: {f1_win_log: .05f}')\n",
    "print(f'The recall of Logistic Regression: {recall_win_log: .05f}')\n",
    "print(f'The precision of Logistic Regression: {precision_win_log: .05f}')\n",
    "\n",
    "win_models['LogisticRegression'] = [cm_win_log, auc_win_log, acc_win_log, f1_win_log, recall_win_log, precision_win_log]\n",
    "#win_models['LogisticRegression'] = [cm_win_log, auc_win_log, acc_win_log, precision_win_log]"
   ]
  },
  {
   "cell_type": "code",
   "execution_count": 40,
   "metadata": {
    "colab": {
     "base_uri": "https://localhost:8080/"
    },
    "executionInfo": {
     "elapsed": 15,
     "status": "ok",
     "timestamp": 1668413476216,
     "user": {
      "displayName": "徐锦雯",
      "userId": "07523249921587303598"
     },
     "user_tz": -480
    },
    "id": "kWMm9V62s4Nq",
    "outputId": "6139cf9e-ba86-4c1e-ede8-19ae0140ffc5"
   },
   "outputs": [
    {
     "name": "stdout",
     "output_type": "stream",
     "text": [
      "For predicting Place:\n",
      "The confusion matrix of Logistic Regression:\n",
      " [[ 656  486]\n",
      " [ 463 1488]]\n",
      "The auc_score of Logistic Regression:  0.66856\n",
      "The acc_score of Logistic Regression:  0.69318\n",
      "The F-measure of Logistic Regression:  0.58027\n",
      "The recall of Logistic Regression:  0.57443\n",
      "The precision of Logistic Regression:  0.58624\n"
     ]
    }
   ],
   "source": [
    "logistic_reg = LogisticRegression()\n",
    "logistic_reg.fit(X_train, y_train_plc)\n",
    "y_pred_plc_log = logistic_reg.predict(X_test)\n",
    "\n",
    "cm_plc_log = confusion_matrix(y_test_plc, y_pred_plc_log, labels=[1, 0])\n",
    "auc_plc_log = roc_auc_score(y_test_plc, y_pred_plc_log)\n",
    "acc_plc_log = accuracy_score(y_test_plc, y_pred_plc_log)\n",
    "f1_plc_log = f1_score(y_test_plc, y_pred_plc_log, labels=[1, 0])\n",
    "recall_plc_log = recall_score(y_test_plc, y_pred_plc_log, labels=[1, 0])\n",
    "precision_plc_log = precision_score(y_test_plc, y_pred_plc_log, labels=[1, 0])\n",
    "\n",
    "print('For predicting Place:')\n",
    "print('The confusion matrix of Logistic Regression:\\n', cm_plc_log)\n",
    "print(f'The auc_score of Logistic Regression: {auc_plc_log: .05f}')\n",
    "print(f'The acc_score of Logistic Regression: {acc_plc_log: .05f}')\n",
    "print(f'The F-measure of Logistic Regression: {f1_plc_log: .05f}')\n",
    "print(f'The recall of Logistic Regression: {recall_plc_log: .05f}')\n",
    "print(f'The precision of Logistic Regression: {precision_plc_log: .05f}')\n",
    "\n",
    "plc_models['LogisticRegression'] = [cm_plc_log, auc_plc_log, acc_plc_log, f1_plc_log, recall_plc_log, precision_plc_log]\n",
    "#plc_models['LogisticRegression'] = [cm_plc_log, auc_plc_log, acc_plc_log, precision_plc_log]"
   ]
  },
  {
   "cell_type": "markdown",
   "metadata": {
    "id": "utjHX671g6jM"
   },
   "source": [
    "## **Model 2: Support Vector Machines**"
   ]
  },
  {
   "cell_type": "code",
   "execution_count": 41,
   "metadata": {
    "colab": {
     "base_uri": "https://localhost:8080/"
    },
    "executionInfo": {
     "elapsed": 2004,
     "status": "ok",
     "timestamp": 1668413478206,
     "user": {
      "displayName": "徐锦雯",
      "userId": "07523249921587303598"
     },
     "user_tz": -480
    },
    "id": "CKRDLbwZg6EZ",
    "outputId": "d92621e1-656e-4185-db28-ccc2b9f44ff2"
   },
   "outputs": [
    {
     "name": "stdout",
     "output_type": "stream",
     "text": [
      "For predicting Win:\n",
      "The confusion matrix of SVM:\n",
      " [[  10  370]\n",
      " [  48 2665]]\n",
      "The auc_score of SVM:  0.50431\n",
      "The acc_score of SVM:  0.86486\n",
      "The F-measure of SVM:  0.04566\n",
      "The recall of SVM:  0.02632\n",
      "The precision of SVM:  0.17241\n"
     ]
    }
   ],
   "source": [
    "from sklearn.svm import LinearSVC\n",
    "\n",
    "svm = LinearSVC()\n",
    "svm.fit(X_train, y_train_win)\n",
    "y_pred_win_svm = svm.predict(X_test)\n",
    "\n",
    "cm_win_svm = confusion_matrix(y_test_win, y_pred_win_svm, labels=[1, 0])\n",
    "auc_win_svm = roc_auc_score(y_test_win, y_pred_win_svm)\n",
    "acc_win_svm = accuracy_score(y_test_win, y_pred_win_svm)\n",
    "f1_win_svm = f1_score(y_test_win, y_pred_win_svm, labels=[1, 0])\n",
    "recall_win_svm = recall_score(y_test_win, y_pred_win_svm, labels=[1, 0])\n",
    "precision_win_svm = precision_score(y_test_win, y_pred_win_svm, labels=[1, 0])\n",
    "\n",
    "print('For predicting Win:')\n",
    "print('The confusion matrix of SVM:\\n', cm_win_svm)\n",
    "print(f'The auc_score of SVM: {auc_win_svm: .05f}')\n",
    "print(f'The acc_score of SVM: {acc_win_svm: .05f}')\n",
    "print(f'The F-measure of SVM: {f1_win_svm: .05f}')\n",
    "print(f'The recall of SVM: {recall_win_svm: .05f}')\n",
    "print(f'The precision of SVM: {precision_win_svm: .05f}')\n",
    "\n",
    "win_models['SVM'] = [cm_win_svm, auc_win_svm, acc_win_svm, f1_win_svm, recall_win_svm, precision_win_svm]\n",
    "#win_models['SVM'] = [cm_win_svm, auc_win_svm, acc_win_svm, precision_win_svm]"
   ]
  },
  {
   "cell_type": "code",
   "execution_count": 42,
   "metadata": {
    "colab": {
     "base_uri": "https://localhost:8080/"
    },
    "executionInfo": {
     "elapsed": 1239,
     "status": "ok",
     "timestamp": 1668413479441,
     "user": {
      "displayName": "徐锦雯",
      "userId": "07523249921587303598"
     },
     "user_tz": -480
    },
    "id": "wrsWsqAMtSMZ",
    "outputId": "9141fc63-3d67-493b-93bf-c468db30b617"
   },
   "outputs": [
    {
     "name": "stdout",
     "output_type": "stream",
     "text": [
      "For predicting Place:\n",
      "The confusion matrix of SVM:\n",
      " [[ 923  219]\n",
      " [ 924 1027]]\n",
      "The auc_score of SVM:  0.66731\n",
      "The acc_score of SVM:  0.63046\n",
      "The F-measure of SVM:  0.61760\n",
      "The recall of SVM:  0.80823\n",
      "The precision of SVM:  0.49973\n"
     ]
    }
   ],
   "source": [
    "svm = LinearSVC()\n",
    "svm.fit(X_train, y_train_plc)\n",
    "y_pred_plc_svm = svm.predict(X_test)\n",
    "\n",
    "cm_plc_svm = confusion_matrix(y_test_plc, y_pred_plc_svm, labels=[1, 0])\n",
    "auc_plc_svm = roc_auc_score(y_test_plc, y_pred_plc_svm)\n",
    "acc_plc_svm = accuracy_score(y_test_plc, y_pred_plc_svm)\n",
    "f1_plc_svm = f1_score(y_test_plc, y_pred_plc_svm, labels=[1, 0])\n",
    "recall_plc_svm = recall_score(y_test_plc, y_pred_plc_svm, labels=[1, 0])\n",
    "precision_plc_svm = precision_score(y_test_plc, y_pred_plc_svm, labels=[1, 0])\n",
    "\n",
    "print('For predicting Place:')\n",
    "print('The confusion matrix of SVM:\\n', cm_plc_svm)\n",
    "print(f'The auc_score of SVM: {auc_plc_svm: .05f}')\n",
    "print(f'The acc_score of SVM: {acc_plc_svm: .05f}')\n",
    "print(f'The F-measure of SVM: {f1_plc_svm: .05f}')\n",
    "print(f'The recall of SVM: {recall_plc_svm: .05f}')\n",
    "print(f'The precision of SVM: {precision_plc_svm: .05f}')\n",
    "\n",
    "plc_models['SVM'] = [cm_plc_svm, auc_plc_svm, acc_plc_svm, f1_plc_svm, recall_plc_svm, precision_plc_svm]\n",
    "#plc_models['SVM'] = [cm_plc_svm, auc_plc_svm, acc_plc_svm, precision_plc_svm]"
   ]
  },
  {
   "cell_type": "markdown",
   "metadata": {
    "id": "63_INW6yikci"
   },
   "source": [
    "## **Model 3: Decision Trees**\n"
   ]
  },
  {
   "cell_type": "code",
   "execution_count": 43,
   "metadata": {
    "colab": {
     "base_uri": "https://localhost:8080/"
    },
    "executionInfo": {
     "elapsed": 6,
     "status": "ok",
     "timestamp": 1668413479442,
     "user": {
      "displayName": "徐锦雯",
      "userId": "07523249921587303598"
     },
     "user_tz": -480
    },
    "id": "B9yOXnUPiotZ",
    "outputId": "db106f31-a7f1-4925-c2fb-68bda8e71cac"
   },
   "outputs": [
    {
     "name": "stdout",
     "output_type": "stream",
     "text": [
      "For predicting Win:\n",
      "The confusion matrix of Decision Trees:\n",
      " [[ 380    0]\n",
      " [   0 2713]]\n",
      "The auc_score of Decision Trees:  1.00000\n",
      "The acc_score of Decision Trees:  1.00000\n",
      "The F-measure of Decision Trees:  1.00000\n",
      "The recall of Decision Trees:  1.00000\n",
      "The precision of Decision Trees:  1.00000\n"
     ]
    }
   ],
   "source": [
    "from sklearn.tree import DecisionTreeClassifier\n",
    "\n",
    "dec_tree = DecisionTreeClassifier()\n",
    "dec_tree.fit(X_train, y_train_win)\n",
    "y_pred_win_dt = dec_tree.predict(X_test)\n",
    "\n",
    "cm_win_dt = confusion_matrix(y_test_win, y_pred_win_dt, labels=[1, 0])\n",
    "auc_win_dt = roc_auc_score(y_test_win, y_pred_win_dt)\n",
    "acc_win_dt = accuracy_score(y_test_win, y_pred_win_dt)\n",
    "f1_win_dt = f1_score(y_test_win, y_pred_win_dt, labels=[1, 0])\n",
    "recall_win_dt = recall_score(y_test_win, y_pred_win_dt, labels=[1, 0])\n",
    "precision_win_dt = precision_score(y_test_win, y_pred_win_dt, labels=[1, 0])\n",
    "\n",
    "print('For predicting Win:')\n",
    "print('The confusion matrix of Decision Trees:\\n', cm_win_dt)\n",
    "print(f'The auc_score of Decision Trees: {auc_win_dt: .05f}')\n",
    "print(f'The acc_score of Decision Trees: {acc_win_dt: .05f}')\n",
    "print(f'The F-measure of Decision Trees: {f1_win_dt: .05f}')\n",
    "print(f'The recall of Decision Trees: {recall_win_dt: .05f}')\n",
    "print(f'The precision of Decision Trees: {precision_win_dt: .05f}')\n",
    "\n",
    "win_models['DecisionTrees'] = [cm_win_dt, auc_win_dt, acc_win_dt, f1_win_dt, recall_win_dt, precision_win_dt]\n",
    "#win_models['DecisionTrees'] = [cm_win_dt, auc_win_dt, acc_win_dt, precision_win_dt]"
   ]
  },
  {
   "cell_type": "code",
   "execution_count": 44,
   "metadata": {
    "colab": {
     "base_uri": "https://localhost:8080/"
    },
    "executionInfo": {
     "elapsed": 5,
     "status": "ok",
     "timestamp": 1668413479442,
     "user": {
      "displayName": "徐锦雯",
      "userId": "07523249921587303598"
     },
     "user_tz": -480
    },
    "id": "zqO-P2KQuEeJ",
    "outputId": "ff3f753f-2dae-44e8-83f6-1d2489b2e1ac"
   },
   "outputs": [
    {
     "name": "stdout",
     "output_type": "stream",
     "text": [
      "For predicting Place:\n",
      "The confusion matrix of Decision Trees:\n",
      " [[1142    0]\n",
      " [   0 1951]]\n",
      "The auc_score of Decision Trees:  1.00000\n",
      "The acc_score of Decision Trees:  1.00000\n",
      "The F-measure of Decision Trees:  1.00000\n",
      "The recall of Decision Trees:  1.00000\n",
      "The precision of Decision Trees:  1.00000\n"
     ]
    }
   ],
   "source": [
    "dec_tree = DecisionTreeClassifier()\n",
    "dec_tree.fit(X_train, y_train_plc)\n",
    "y_pred_plc_dt = dec_tree.predict(X_test)\n",
    "\n",
    "cm_plc_dt = confusion_matrix(y_test_plc, y_pred_plc_dt, labels=[1, 0])\n",
    "auc_plc_dt = roc_auc_score(y_test_plc, y_pred_plc_dt)\n",
    "acc_plc_dt = accuracy_score(y_test_plc, y_pred_plc_dt)\n",
    "f1_plc_dt = f1_score(y_test_plc, y_pred_plc_dt, labels=[1, 0])\n",
    "recall_plc_dt = recall_score(y_test_plc, y_pred_plc_dt, labels=[1, 0])\n",
    "precision_plc_dt = precision_score(y_test_plc, y_pred_plc_dt, labels=[1, 0])\n",
    "\n",
    "print('For predicting Place:')\n",
    "print('The confusion matrix of Decision Trees:\\n', cm_plc_dt)\n",
    "print(f'The auc_score of Decision Trees: {auc_plc_dt: .05f}')\n",
    "print(f'The acc_score of Decision Trees: {acc_plc_dt: .05f}')\n",
    "print(f'The F-measure of Decision Trees: {f1_plc_dt: .05f}')\n",
    "print(f'The recall of Decision Trees: {recall_plc_dt: .05f}')\n",
    "print(f'The precision of Decision Trees: {precision_plc_dt: .05f}')\n",
    "\n",
    "plc_models['DecisionTree'] = [cm_plc_dt, auc_plc_dt, acc_plc_dt, f1_plc_dt, recall_plc_dt, precision_plc_dt]\n",
    "#plc_models['DecisionTree'] = [cm_plc_dt, auc_plc_dt, acc_plc_dt, precision_plc_dt]"
   ]
  },
  {
   "cell_type": "markdown",
   "metadata": {
    "id": "U61b2KTIivlh"
   },
   "source": [
    "## **Model 4: Random Forest**"
   ]
  },
  {
   "cell_type": "code",
   "execution_count": 45,
   "metadata": {
    "colab": {
     "base_uri": "https://localhost:8080/"
    },
    "executionInfo": {
     "elapsed": 1426,
     "status": "ok",
     "timestamp": 1668413480866,
     "user": {
      "displayName": "徐锦雯",
      "userId": "07523249921587303598"
     },
     "user_tz": -480
    },
    "id": "s3KOrj_EivFI",
    "outputId": "9039156d-e220-4051-ef5c-a0a0ace9d068"
   },
   "outputs": [
    {
     "name": "stdout",
     "output_type": "stream",
     "text": [
      "For predicting Win:\n",
      "The confusion matrix of Random Forest:\n",
      " [[ 380    0]\n",
      " [   0 2713]]\n",
      "The auc_score of Random Forest:  1.00000\n",
      "The acc_score of Random Forest:  1.00000\n",
      "The F-measure of Random Forest:  1.00000\n",
      "The recall of Random Forest:  1.00000\n",
      "The precision of Random Forest:  1.00000\n"
     ]
    }
   ],
   "source": [
    "from sklearn.ensemble import RandomForestClassifier\n",
    "\n",
    "rand_forest = RandomForestClassifier()\n",
    "rand_forest.fit(X_train, y_train_win)\n",
    "y_pred_win_rf = rand_forest.predict(X_test)\n",
    "\n",
    "cm_win_rf = confusion_matrix(y_test_win, y_pred_win_rf, labels=[1, 0])\n",
    "auc_win_rf = roc_auc_score(y_test_win, y_pred_win_rf)\n",
    "acc_win_rf = accuracy_score(y_test_win, y_pred_win_rf)\n",
    "f1_win_rf = f1_score(y_test_win, y_pred_win_rf, labels=[1, 0])\n",
    "recall_win_rf = recall_score(y_test_win, y_pred_win_rf, labels=[1, 0])\n",
    "precision_win_rf = precision_score(y_test_win, y_pred_win_rf, labels=[1, 0])\n",
    "\n",
    "print('For predicting Win:')\n",
    "print('The confusion matrix of Random Forest:\\n', cm_win_rf)\n",
    "print(f'The auc_score of Random Forest: {auc_win_rf: .05f}')\n",
    "print(f'The acc_score of Random Forest: {acc_win_rf: .05f}')\n",
    "print(f'The F-measure of Random Forest: {f1_win_rf: .05f}')\n",
    "print(f'The recall of Random Forest: {recall_win_rf: .05f}')\n",
    "print(f'The precision of Random Forest: {precision_win_rf: .05f}')\n",
    "\n",
    "win_models['RandomForest'] = [cm_win_rf, auc_win_rf, acc_win_rf, f1_win_rf, recall_win_rf, precision_win_rf]\n",
    "#win_models['RandomForest'] = [cm_win_rf, auc_win_rf, acc_win_rf, precision_win_rf]"
   ]
  },
  {
   "cell_type": "code",
   "execution_count": 46,
   "metadata": {
    "colab": {
     "base_uri": "https://localhost:8080/"
    },
    "executionInfo": {
     "elapsed": 454,
     "status": "ok",
     "timestamp": 1668413481316,
     "user": {
      "displayName": "徐锦雯",
      "userId": "07523249921587303598"
     },
     "user_tz": -480
    },
    "id": "O4ndxsDEuMlf",
    "outputId": "46b3912f-b595-4fd1-e686-748dd5964694"
   },
   "outputs": [
    {
     "name": "stdout",
     "output_type": "stream",
     "text": [
      "For predicting Place:\n",
      "The confusion matrix of Random Forest:\n",
      " [[1142    0]\n",
      " [   0 1951]]\n",
      "The auc_score of Random Forest:  1.00000\n",
      "The acc_score of Random Forest:  1.00000\n",
      "The F-measure of Random Forest:  1.00000\n",
      "The recall of Random Forest:  1.00000\n",
      "The precision of Random Forest:  1.00000\n"
     ]
    }
   ],
   "source": [
    "rand_forest = RandomForestClassifier()\n",
    "rand_forest.fit(X_train, y_train_plc)\n",
    "y_pred_plc_rf = rand_forest.predict(X_test)\n",
    "\n",
    "cm_plc_rf = confusion_matrix(y_test_plc, y_pred_plc_rf, labels=[1, 0])\n",
    "auc_plc_rf = roc_auc_score(y_test_plc, y_pred_plc_rf)\n",
    "acc_plc_rf = accuracy_score(y_test_plc, y_pred_plc_rf)\n",
    "f1_plc_rf = f1_score(y_test_plc, y_pred_plc_rf, labels=[1, 0])\n",
    "recall_plc_rf = recall_score(y_test_plc, y_pred_plc_rf, labels=[1, 0])\n",
    "precision_plc_rf = precision_score(y_test_plc, y_pred_plc_rf, labels=[1, 0])\n",
    "\n",
    "print('For predicting Place:')\n",
    "print('The confusion matrix of Random Forest:\\n', cm_plc_rf)\n",
    "print(f'The auc_score of Random Forest: {auc_plc_rf: .05f}')\n",
    "print(f'The acc_score of Random Forest: {acc_plc_rf: .05f}')\n",
    "print(f'The F-measure of Random Forest: {f1_plc_rf: .05f}')\n",
    "print(f'The recall of Random Forest: {recall_plc_rf: .05f}')\n",
    "print(f'The precision of Random Forest: {precision_plc_rf: .05f}')\n",
    "\n",
    "plc_models['RandomForest'] = [cm_plc_rf, auc_plc_rf, acc_plc_rf, f1_plc_rf, recall_plc_rf, precision_plc_rf]"
   ]
  },
  {
   "cell_type": "markdown",
   "metadata": {
    "id": "sjZYOx20jGeQ"
   },
   "source": [
    "## **Model 5: Naive Bayes**"
   ]
  },
  {
   "cell_type": "code",
   "execution_count": 47,
   "metadata": {
    "colab": {
     "base_uri": "https://localhost:8080/"
    },
    "executionInfo": {
     "elapsed": 349,
     "status": "ok",
     "timestamp": 1668413481663,
     "user": {
      "displayName": "徐锦雯",
      "userId": "07523249921587303598"
     },
     "user_tz": -480
    },
    "id": "TugQYLxLjF5C",
    "outputId": "34bc8192-7ce3-4e1e-ca25-f0d82aae1309"
   },
   "outputs": [
    {
     "name": "stdout",
     "output_type": "stream",
     "text": [
      "For predicting Win:\n",
      "The confusion matrix of Naive Bayes:\n",
      " [[ 105  275]\n",
      " [ 246 2467]]\n",
      "The auc_score of Naive Bayes:  0.59282\n",
      "The acc_score of Naive Bayes:  0.83156\n",
      "The F-measure of Naive Bayes:  0.28728\n",
      "The recall of Naive Bayes:  0.27632\n",
      "The precision of Naive Bayes:  0.29915\n"
     ]
    }
   ],
   "source": [
    "from sklearn.naive_bayes import GaussianNB\n",
    "\n",
    "naive_bayes = GaussianNB()\n",
    "naive_bayes.fit(X_train, y_train_win)\n",
    "y_pred_win_nb = naive_bayes.predict(X_test)\n",
    "\n",
    "cm_win_nb = confusion_matrix(y_test_win, y_pred_win_nb, labels=[1, 0])\n",
    "auc_win_nb = roc_auc_score(y_test_win, y_pred_win_nb)\n",
    "acc_win_nb = accuracy_score(y_test_win, y_pred_win_nb)\n",
    "f1_win_nb = f1_score(y_test_win, y_pred_win_nb, labels=[1, 0])\n",
    "recall_win_nb = recall_score(y_test_win, y_pred_win_nb, labels=[1, 0])\n",
    "precision_win_nb = precision_score(y_test_win, y_pred_win_nb, labels=[1, 0])\n",
    "\n",
    "print('For predicting Win:')\n",
    "print('The confusion matrix of Naive Bayes:\\n', cm_win_nb)\n",
    "print(f'The auc_score of Naive Bayes: {auc_win_nb: .05f}')\n",
    "print(f'The acc_score of Naive Bayes: {acc_win_nb: .05f}')\n",
    "print(f'The F-measure of Naive Bayes: {f1_win_nb: .05f}')\n",
    "print(f'The recall of Naive Bayes: {recall_win_nb: .05f}')\n",
    "print(f'The precision of Naive Bayes: {precision_win_nb: .05f}')\n",
    "\n",
    "win_models['NaiveBayes'] = [cm_win_nb, auc_win_nb, acc_win_nb, f1_win_nb, recall_win_nb, precision_win_nb]"
   ]
  },
  {
   "cell_type": "code",
   "execution_count": 48,
   "metadata": {
    "colab": {
     "base_uri": "https://localhost:8080/"
    },
    "executionInfo": {
     "elapsed": 4,
     "status": "ok",
     "timestamp": 1668413481663,
     "user": {
      "displayName": "徐锦雯",
      "userId": "07523249921587303598"
     },
     "user_tz": -480
    },
    "id": "H2mPSuzfuYQ6",
    "outputId": "b83f371c-7487-46d0-9178-04665f4b4aab"
   },
   "outputs": [
    {
     "name": "stdout",
     "output_type": "stream",
     "text": [
      "For predicting Place:\n",
      "The confusion matrix of Naive Bayes:\n",
      " [[ 879  263]\n",
      " [ 854 1097]]\n",
      "The auc_score of Naive Bayes:  0.66599\n",
      "The acc_score of Naive Bayes:  0.63886\n",
      "The F-measure of Naive Bayes:  0.61148\n",
      "The recall of Naive Bayes:  0.76970\n",
      "The precision of Naive Bayes:  0.50721\n"
     ]
    }
   ],
   "source": [
    "naive_bayes = GaussianNB()\n",
    "naive_bayes.fit(X_train, y_train_plc)\n",
    "y_pred_plc_nb = naive_bayes.predict(X_test)\n",
    "\n",
    "cm_plc_nb = confusion_matrix(y_test_plc, y_pred_plc_nb, labels=[1, 0])\n",
    "auc_plc_nb = roc_auc_score(y_test_plc, y_pred_plc_nb)\n",
    "acc_plc_nb = accuracy_score(y_test_plc, y_pred_plc_nb)\n",
    "f1_plc_nb = f1_score(y_test_plc, y_pred_plc_nb, labels=[1, 0])\n",
    "recall_plc_nb = recall_score(y_test_plc, y_pred_plc_nb, labels=[1, 0])\n",
    "precision_plc_nb = precision_score(y_test_plc, y_pred_plc_nb, labels=[1, 0])\n",
    "\n",
    "print('For predicting Place:')\n",
    "print('The confusion matrix of Naive Bayes:\\n', cm_plc_nb)\n",
    "print(f'The auc_score of Naive Bayes: {auc_plc_nb: .05f}')\n",
    "print(f'The acc_score of Naive Bayes: {acc_plc_nb: .05f}')\n",
    "print(f'The F-measure of Naive Bayes: {f1_plc_nb: .05f}')\n",
    "print(f'The recall of Naive Bayes: {recall_plc_nb: .05f}')\n",
    "print(f'The precision of Naive Bayes: {precision_plc_nb: .05f}')\n",
    "\n",
    "plc_models['NaiveBayes'] = [cm_plc_nb, auc_plc_nb, acc_plc_nb, f1_plc_nb, recall_plc_nb, precision_plc_nb]"
   ]
  },
  {
   "cell_type": "markdown",
   "metadata": {
    "id": "9pVcWGWujOui"
   },
   "source": [
    "## **Model 6: K-Nearest Neighbors**"
   ]
  },
  {
   "cell_type": "code",
   "execution_count": 49,
   "metadata": {
    "colab": {
     "base_uri": "https://localhost:8080/"
    },
    "executionInfo": {
     "elapsed": 1073,
     "status": "ok",
     "timestamp": 1668413482735,
     "user": {
      "displayName": "徐锦雯",
      "userId": "07523249921587303598"
     },
     "user_tz": -480
    },
    "id": "wKsePtz3jOTo",
    "outputId": "5ffca4c5-b650-46b5-f525-7b1b729f2896"
   },
   "outputs": [
    {
     "name": "stdout",
     "output_type": "stream",
     "text": [
      "For predicting Win:\n",
      "The confusion matrix of KNN:\n",
      " [[  27  353]\n",
      " [  69 2644]]\n",
      "The auc_score of KNN:  0.52281\n",
      "The acc_score of KNN:  0.86356\n",
      "The F-measure of KNN:  0.11345\n",
      "The recall of KNN:  0.07105\n",
      "The precision of KNN:  0.28125\n"
     ]
    }
   ],
   "source": [
    "from sklearn.neighbors import KNeighborsClassifier\n",
    "\n",
    "knn = KNeighborsClassifier()\n",
    "knn.fit(X_train, y_train_win)\n",
    "y_pred_win_knn = knn.predict(X_test)\n",
    "\n",
    "cm_win_knn = confusion_matrix(y_test_win, y_pred_win_knn, labels=[1, 0])\n",
    "auc_win_knn = roc_auc_score(y_test_win, y_pred_win_knn)\n",
    "acc_win_knn = accuracy_score(y_test_win, y_pred_win_knn)\n",
    "f1_win_knn = f1_score(y_test_win, y_pred_win_knn, labels=[1, 0])\n",
    "recall_win_knn = recall_score(y_test_win, y_pred_win_knn, labels=[1, 0])\n",
    "precision_win_knn = precision_score(y_test_win, y_pred_win_knn, labels=[1, 0])\n",
    "\n",
    "print('For predicting Win:')\n",
    "print('The confusion matrix of KNN:\\n', cm_win_knn)\n",
    "print(f'The auc_score of KNN: {auc_win_knn: .05f}')\n",
    "print(f'The acc_score of KNN: {acc_win_knn: .05f}')\n",
    "print(f'The F-measure of KNN: {f1_win_knn: .05f}')\n",
    "print(f'The recall of KNN: {recall_win_knn: .05f}')\n",
    "print(f'The precision of KNN: {precision_win_knn: .05f}')\n",
    "\n",
    "win_models['KNN'] = [cm_win_knn, auc_win_knn, acc_win_knn, f1_win_knn, recall_win_knn, precision_win_knn]"
   ]
  },
  {
   "cell_type": "code",
   "execution_count": 50,
   "metadata": {
    "colab": {
     "base_uri": "https://localhost:8080/"
    },
    "executionInfo": {
     "elapsed": 486,
     "status": "ok",
     "timestamp": 1668413483218,
     "user": {
      "displayName": "徐锦雯",
      "userId": "07523249921587303598"
     },
     "user_tz": -480
    },
    "id": "-GCg0K8DuilK",
    "outputId": "b918639a-d819-43ea-ff17-e534dd962ef6"
   },
   "outputs": [
    {
     "name": "stdout",
     "output_type": "stream",
     "text": [
      "For predicting Place:\n",
      "The confusion matrix of KNN:\n",
      " [[ 566  576]\n",
      " [ 516 1435]]\n",
      "The auc_score of KNN:  0.61557\n",
      "The acc_score of KNN:  0.64694\n",
      "The F-measure of KNN:  0.50899\n",
      "The recall of KNN:  0.49562\n",
      "The precision of KNN:  0.52311\n"
     ]
    }
   ],
   "source": [
    "knn = KNeighborsClassifier()\n",
    "knn.fit(X_train, y_train_plc)\n",
    "y_pred_plc_knn = knn.predict(X_test)\n",
    "\n",
    "cm_plc_knn = confusion_matrix(y_test_plc, y_pred_plc_knn, labels=[1, 0])\n",
    "auc_plc_knn = roc_auc_score(y_test_plc, y_pred_plc_knn)\n",
    "acc_plc_knn = accuracy_score(y_test_plc, y_pred_plc_knn)\n",
    "f1_plc_knn = f1_score(y_test_plc, y_pred_plc_knn, labels=[1, 0])\n",
    "recall_plc_knn = recall_score(y_test_plc, y_pred_plc_knn, labels=[1, 0])\n",
    "precision_plc_knn = precision_score(y_test_plc, y_pred_plc_knn, labels=[1, 0])\n",
    "\n",
    "print('For predicting Place:')\n",
    "print('The confusion matrix of KNN:\\n', cm_plc_knn)\n",
    "print(f'The auc_score of KNN: {auc_plc_knn: .05f}')\n",
    "print(f'The acc_score of KNN: {acc_plc_knn: .05f}')\n",
    "print(f'The F-measure of KNN: {f1_plc_knn: .05f}')\n",
    "print(f'The recall of KNN: {recall_plc_knn: .05f}')\n",
    "print(f'The precision of KNN: {precision_plc_knn: .05f}')\n",
    "\n",
    "plc_models['KNN'] = [cm_plc_knn, auc_plc_knn, acc_plc_knn, f1_plc_knn, recall_plc_knn, precision_plc_knn]"
   ]
  },
  {
   "cell_type": "markdown",
   "metadata": {
    "id": "vJFS00q3fhcL"
   },
   "source": [
    "## **Model 7: ANN**"
   ]
  },
  {
   "cell_type": "code",
   "execution_count": null,
   "metadata": {
    "colab": {
     "base_uri": "https://localhost:8080/"
    },
    "executionInfo": {
     "elapsed": 5928,
     "status": "ok",
     "timestamp": 1668413489138,
     "user": {
      "displayName": "徐锦雯",
      "userId": "07523249921587303598"
     },
     "user_tz": -480
    },
    "id": "hAPaZCKVSxVg",
    "outputId": "958f7f46-28a4-4a7a-97fe-9441bdc2b32a"
   },
   "outputs": [],
   "source": [
    "import keras\n",
    "import tensorflow\n",
    "from keras.models import Sequential\n",
    "from keras.layers import Dense\n",
    "\n",
    "def prob_threshold(array):\n",
    "  y_pred = []\n",
    "  for i in range(len(array)):\n",
    "    y_pred.append(1) if array[i] >= 0.5 else y_pred.append(0)\n",
    "  return y_pred\n",
    "\n",
    "def ann_classification(Optimizer_Trial, Neurons_Trial):\n",
    "  classifier = Sequential()\n",
    "  classifier.add(Dense(units=Neurons_Trial, input_dim=79, kernel_initializer='uniform', activation='relu'))\n",
    "  classifier.add(Dense(units=Neurons_Trial, kernel_initializer='uniform', activation='relu'))\n",
    "  classifier.add(Dense(units=1, kernel_initializer='uniform', activation='sigmoid'))\n",
    "  classifier.compile(optimizer=Optimizer_Trial, loss='binary_crossentropy', metrics=['AUC'])            \n",
    "  return classifier\n",
    "\n",
    "ann = ann_classification('adam', 15)\n",
    "ann.fit(X_train, y_train_win, batch_size=100, epochs=20, verbose=1)\n",
    "y_preds_win_ann = ann.predict(X_test)\n",
    "auc_win_ann = roc_auc_score(y_test_win, y_preds_win_ann)\n",
    "y_preds_win_ann = prob_threshold(y_preds_win_ann)\n",
    "cm_win_ann = confusion_matrix(y_test_win, y_preds_win_ann, labels=[1, 0])\n",
    "acc_win_ann = accuracy_score(y_test_win, y_preds_win_ann)\n",
    "f1_win_ann = f1_score(y_test_win, y_preds_win_ann, labels=[1, 0])\n",
    "recall_win_ann = recall_score(y_test_win, y_preds_win_ann, labels=[1, 0])\n",
    "precision_win_ann = precision_score(y_test_win, y_preds_win_ann, labels=[1, 0])\n",
    "\n",
    "print('For predicting Win:')\n",
    "print('The confusion matrix of ANN:\\n', cm_win_ann)\n",
    "print(f'The auc_score of ANN: {auc_win_ann: .05f}')\n",
    "print(f'The acc_score of ANN: {acc_win_ann: .05f}')\n",
    "print(f'The F-measure of ANN: {f1_win_ann: .05f}')\n",
    "print(f'The recall of ANN: {recall_win_ann: .05f}')\n",
    "print(f'The precision of ANN: {precision_win_ann: .05f}')\n",
    "\n",
    "win_models['ANN'] = [cm_win_ann, auc_win_ann, acc_win_ann, f1_win_ann, recall_win_ann, precision_win_ann]"
   ]
  },
  {
   "cell_type": "code",
   "execution_count": 1,
   "metadata": {
    "colab": {
     "base_uri": "https://localhost:8080/"
    },
    "executionInfo": {
     "elapsed": 4648,
     "status": "ok",
     "timestamp": 1668413493768,
     "user": {
      "displayName": "徐锦雯",
      "userId": "07523249921587303598"
     },
     "user_tz": -480
    },
    "id": "aZBKhTrauwVy",
    "outputId": "ef1f1600-3083-4fcb-db02-9938436ad93b"
   },
   "outputs": [
    {
     "ename": "NameError",
     "evalue": "name 'ann_classification' is not defined",
     "output_type": "error",
     "traceback": [
      "\u001b[0;31m---------------------------------------------------------------------------\u001b[0m",
      "\u001b[0;31mNameError\u001b[0m                                 Traceback (most recent call last)",
      "Input \u001b[0;32mIn [1]\u001b[0m, in \u001b[0;36m<cell line: 1>\u001b[0;34m()\u001b[0m\n\u001b[0;32m----> 1\u001b[0m ann \u001b[38;5;241m=\u001b[39m \u001b[43mann_classification\u001b[49m(\u001b[38;5;124m'\u001b[39m\u001b[38;5;124madam\u001b[39m\u001b[38;5;124m'\u001b[39m, \u001b[38;5;241m15\u001b[39m)\n\u001b[1;32m      2\u001b[0m ann\u001b[38;5;241m.\u001b[39mfit(X_train, y_train_plc, batch_size\u001b[38;5;241m=\u001b[39m\u001b[38;5;241m100\u001b[39m, epochs\u001b[38;5;241m=\u001b[39m\u001b[38;5;241m20\u001b[39m, verbose\u001b[38;5;241m=\u001b[39m\u001b[38;5;241m1\u001b[39m)\n\u001b[1;32m      3\u001b[0m y_preds_plc_ann \u001b[38;5;241m=\u001b[39m ann\u001b[38;5;241m.\u001b[39mpredict(X_test)\n",
      "\u001b[0;31mNameError\u001b[0m: name 'ann_classification' is not defined"
     ]
    }
   ],
   "source": [
    "ann = ann_classification('adam', 15)\n",
    "ann.fit(X_train, y_train_plc, batch_size=100, epochs=20, verbose=1)\n",
    "y_preds_plc_ann = ann.predict(X_test)\n",
    "auc_plc_ann = roc_auc_score(y_test_plc, y_preds_plc_ann)\n",
    "y_preds_plc_ann = prob_threshold(y_preds_plc_ann)\n",
    "cm_plc_ann = confusion_matrix(y_test_plc, y_preds_plc_ann, labels=[1, 0])\n",
    "acc_plc_ann = accuracy_score(y_test_plc, y_preds_plc_ann)\n",
    "f1_plc_ann = f1_score(y_test_plc, y_preds_plc_ann, labels=[1, 0])\n",
    "recall_plc_ann = recall_score(y_test_plc, y_preds_plc_ann, labels=[1, 0])\n",
    "precision_plc_ann = precision_score(y_test_plc, y_preds_plc_ann, labels=[1, 0])\n",
    "\n",
    "print('For predicting Place:')\n",
    "print('The confusion matrix of ANN:\\n', cm_plc_ann)\n",
    "print(f'The auc_score of ANN: {auc_plc_ann: .05f}')\n",
    "print(f'The acc_score of ANN: {acc_plc_ann: .05f}')\n",
    "print(f'The F-measure of ANN: {f1_plc_ann: .05f}')\n",
    "print(f'The recall of ANN: {recall_plc_ann: .05f}')\n",
    "print(f'The precision of ANN: {precision_plc_ann: .05f}')\n",
    "\n",
    "plc_models['ANN'] = [cm_plc_ann, auc_plc_ann, acc_plc_ann, f1_plc_ann, recall_plc_ann, precision_plc_ann]"
   ]
  },
  {
   "cell_type": "markdown",
   "metadata": {
    "id": "gO5jxJAgPtPT"
   },
   "source": [
    "## **Model 8: LightGBM**"
   ]
  },
  {
   "cell_type": "markdown",
   "metadata": {
    "id": "DqZs24Hmu_UF"
   },
   "source": [
    "### **Predict 'Win'**"
   ]
  },
  {
   "cell_type": "code",
   "execution_count": null,
   "metadata": {
    "colab": {
     "base_uri": "https://localhost:8080/",
     "height": 392
    },
    "executionInfo": {
     "elapsed": 20,
     "status": "ok",
     "timestamp": 1668413493768,
     "user": {
      "displayName": "徐锦雯",
      "userId": "07523249921587303598"
     },
     "user_tz": -480
    },
    "id": "wZ1QUAdkFr-d",
    "outputId": "5dee0f3b-bd30-41af-a012-b2f864c09690"
   },
   "outputs": [
    {
     "name": "stdout",
     "output_type": "stream",
     "text": [
      "(2741, 79) (7668, 79)\n"
     ]
    },
    {
     "data": {
      "text/plain": [
       "0    0.857351\n",
       "1    0.142649\n",
       "Name: target_win, dtype: float64"
      ]
     },
     "metadata": {},
     "output_type": "display_data"
    },
    {
     "data": {
      "text/plain": [
       "0    0.866849\n",
       "1    0.133151\n",
       "Name: target_win, dtype: float64"
      ]
     },
     "metadata": {},
     "output_type": "display_data"
    },
    {
     "name": "stdout",
     "output_type": "stream",
     "text": [
      "(5256, 79) (5153, 79)\n"
     ]
    },
    {
     "data": {
      "text/plain": [
       "0    0.858828\n",
       "1    0.141172\n",
       "Name: target_win, dtype: float64"
      ]
     },
     "metadata": {},
     "output_type": "display_data"
    },
    {
     "data": {
      "text/plain": [
       "0    0.869979\n",
       "1    0.130021\n",
       "Name: target_win, dtype: float64"
      ]
     },
     "metadata": {},
     "output_type": "display_data"
    },
    {
     "name": "stdout",
     "output_type": "stream",
     "text": [
      "(8469, 79) (1940, 79)\n"
     ]
    },
    {
     "data": {
      "text/plain": [
       "0    0.864565\n",
       "1    0.135435\n",
       "Name: target_win, dtype: float64"
      ]
     },
     "metadata": {},
     "output_type": "display_data"
    },
    {
     "data": {
      "text/plain": [
       "0    0.863402\n",
       "1    0.136598\n",
       "Name: target_win, dtype: float64"
      ]
     },
     "metadata": {},
     "output_type": "display_data"
    }
   ],
   "source": [
    "kfold_win = []\n",
    "for i in [5, 7, 9]: \n",
    "  X_train = df_train.loc[(df_train['race_date']>=train_start) & (df_train['race_date']<f'2019-0{i}-01'), features]\n",
    "  y_train = df_train.loc[(df_train['race_date']>=train_start) & (df_train['race_date']<f'2019-0{i}-01'), ['target_win']]\n",
    "  X_test = df_train.loc[(df_train['race_date']>=f'2019-0{i}-01') & (df_train['race_date']<train_end), features]\n",
    "  y_test = df_train.loc[(df_train['race_date']>=f'2019-0{i}-01') & (df_train['race_date']<train_end), ['target_win']]\n",
    "  kfold_win.append([X_train, y_train, X_test, y_test])\n",
    "  print(X_train.shape, X_test.shape)\n",
    "  display(y_train['target_win'].value_counts() / y_train.shape[0])\n",
    "  display(y_test['target_win'].value_counts() / y_test.shape[0])"
   ]
  },
  {
   "cell_type": "code",
   "execution_count": null,
   "metadata": {
    "id": "Yvywq6DQFR2E"
   },
   "outputs": [],
   "source": [
    "import lightgbm as lgb\n",
    "from hyperopt import hp, fmin, tpe, hp, STATUS_OK, Trials, anneal, rand, space_eval\n",
    "from functools import partial\n",
    "\n",
    "\n",
    "def train_trees(X_train, y_train, num_round=100, params={}):   \n",
    "  params['verbosity'] = -1\n",
    "  dtrain = lgb.Dataset(X_train, y_train) \n",
    "  tree_model = lgb.train(params, dtrain, num_boost_round=num_round)\n",
    "  del dtrain\n",
    "  gc.collect()\n",
    "  return tree_model\n",
    "\n",
    "\n",
    "loss_dict = []\n",
    "def score_win(params):\n",
    "  num_boost_round = params['n_estimators']\n",
    "  params_ = copy.deepcopy(params)\n",
    "  del params_['n_estimators']\n",
    "  losses = [] \n",
    "  for X_train,y_train,  X_test,y_test  in kfold_win:\n",
    "    #-----start: train trees--------\n",
    "    tree_model = train_trees(X_train, y_train['target_win'].values, num_round=num_boost_round, params=params_)\n",
    "    y_preds = tree_model.predict(X_test, num_iteration=tree_model.best_iteration)\n",
    "    loss = roc_auc_score(y_test['target_win'], y_preds)\n",
    "    losses.append(loss) \n",
    "    #-----end: train trees----------\n",
    "    loss = np.mean(losses)\n",
    "    loss_dict.append({'params': params, 'losses': losses, 'mean_loss': loss})\n",
    "    return {'loss': -loss, 'status': STATUS_OK}\n",
    "\n",
    "\n",
    "def optimize_win(space, evals, cores, trials, optimizer=tpe.suggest, random_state=1234, n_startup_jobs=10):\n",
    "  algo = partial(optimizer, n_startup_jobs=n_startup_jobs)\n",
    "  best = fmin(score_win, space, algo=algo, max_evals=evals, trials = trials)\n",
    "  bestparams = space_eval(space, best)\n",
    "  return bestparams"
   ]
  },
  {
   "cell_type": "code",
   "execution_count": null,
   "metadata": {
    "id": "07-n1FUjM8D8"
   },
   "outputs": [],
   "source": [
    "#https://lightgbm.readthedocs.io/en/latest/Parameters.html\n",
    "#https://lightgbm.readthedocs.io/en/latest/pythonapi/lightgbm.LGBMClassifier.html?highlight=classifier#lightgbm.LGBMClassifier\n",
    "\n",
    "space = {'n_estimators': hp.choice('n_estimators', range(600, 1200, 1)), #num_boost_round\n",
    "      'boosting_type':hp.choice('boosting_type', ['gbdt']),#boosting\n",
    "      'objective':hp.choice('objective', ['binary'] ), 'metric':hp.choice('metric', ['auc']),\n",
    "      'learning_rate': hp.choice('learning_rate', np.arange(0.01, 0.1, 0.01)), \n",
    "      'colsample_bytree': hp.choice('colsample_bytree', np.round(np.arange(0.1, 0.86, 0.05),3)), #feature_fraction\n",
    "      'max_depth': hp.choice('max_depth', range(1, 3, 1)), #int type\n",
    "      'min_child_samples': hp.choice('min_child_samples',range(10, 501, 5)), #min_data_in_leaf\n",
    "      'reg_alpha':hp.choice('reg_alpha', [0.0001, 0.001, 0.01, 0.05, 0.1, 0.5, 1, 5, 10,15]),#lambda_l1\n",
    "      'reg_lambda':hp.choice('reg_lambda', [0.0001, 0.001, 0.01, 0.05, 0.1, 0.5, 1, 5, 10,15]),#lambda_l2\n",
    "      'max_bin':hp.choice('max_bin', range(20, 200, 5)), 'min_data_in_bin':hp.choice('min_data_in_bin', range(5, 100, 5)),\n",
    "      'subsample':hp.choice('subsample', np.round(np.arange(0.1, 0.96, 0.05),3)), #bagging_fraction\n",
    "      'subsample_freq':hp.choice('subsample_freq', range(1, 20, 1)),#bagging_freq\n",
    "      #max number of leaves in one tree. 1 < num_leaves <= 131072. classes< num_leaves< 2^max_depth  \n",
    "      'num_leaves':hp.choice('num_leaves', range(31, 300, 5)),#max_leaves. \n",
    "      'random_state':hp.choice('random_state', [1234]), 'n_jobs':hp.choice('n_jobs', [4]),#nthread \n",
    "      'scale_pos_weight':hp.choice('scale_pos_weight', [8]),# scale_pos_weight \n",
    "      #'min_split_gain':hp.choice('min_split_gain', [0.0]), #min_gain_to_split\n",
    "      #'min_child_weight':hp.choice('min_child_weight', [0.001]),   #min_sum_hessian_in_leaf\n",
    "      #'subsample_for_bin':hp.choice('subsample_for_bin', [200000]),   #bin_construct_sample_cnt \n",
    "      #'importance_type':hp.choice('importance_type', ['split']),   \n",
    "      }"
   ]
  },
  {
   "cell_type": "code",
   "execution_count": null,
   "metadata": {
    "colab": {
     "base_uri": "https://localhost:8080/"
    },
    "executionInfo": {
     "elapsed": 754135,
     "status": "ok",
     "timestamp": 1668416576513,
     "user": {
      "displayName": "徐锦雯",
      "userId": "07523249921587303598"
     },
     "user_tz": -480
    },
    "id": "APmNNjskMl7K",
    "outputId": "e0dd2094-74bc-4846-ac80-06b8e3a1bb25"
   },
   "outputs": [
    {
     "name": "stdout",
     "output_type": "stream",
     "text": [
      "2022-11-14 08:50:22.273129 0\n",
      "100%|██████████| 100/100 [01:22<00:00,  1.21it/s, best loss: -1.0000000000000002]\n",
      "2022-11-14 08:51:45.556169 1\n",
      "100%|██████████| 100/100 [01:16<00:00,  1.30it/s, best loss: -1.0]\n",
      "2022-11-14 08:53:02.345814 2\n",
      "100%|██████████| 100/100 [01:16<00:00,  1.31it/s, best loss: -1.0]\n",
      "2022-11-14 08:54:18.622723 3\n",
      "100%|██████████| 100/100 [01:11<00:00,  1.40it/s, best loss: -1.0000000000000002]\n",
      "2022-11-14 08:55:30.110021 4\n",
      "100%|██████████| 100/100 [01:14<00:00,  1.34it/s, best loss: -1.0]\n",
      "2022-11-14 08:56:44.823084 5\n",
      "100%|██████████| 100/100 [01:15<00:00,  1.32it/s, best loss: -1.0]\n",
      "2022-11-14 08:58:00.657438 6\n",
      "100%|██████████| 100/100 [01:13<00:00,  1.36it/s, best loss: -1.0]\n",
      "2022-11-14 08:59:14.449546 7\n",
      "100%|██████████| 100/100 [01:12<00:00,  1.37it/s, best loss: -1.0]\n",
      "2022-11-14 09:00:27.295294 8\n",
      "100%|██████████| 100/100 [01:16<00:00,  1.30it/s, best loss: -1.0]\n",
      "2022-11-14 09:01:44.167107 9\n",
      "100%|██████████| 100/100 [01:11<00:00,  1.40it/s, best loss: -1.0]\n"
     ]
    }
   ],
   "source": [
    "iter_dict_win = {}\n",
    "for iter_i in range(10):\n",
    "  print(datetime.now(), iter_i)\n",
    "  cores = 8\n",
    "  n_trials = 100\n",
    "  n_rand_trials = 20\n",
    "  verbose = False\n",
    "  trials = Trials()\n",
    "\n",
    "  best_param_win = optimize_win(space, evals = n_trials, optimizer=tpe.suggest, cores = cores, \n",
    "                trials = trials, random_state=1234, n_startup_jobs=n_rand_trials)\n",
    "    \n",
    "  iter_dict_win[iter_i] = best_param_win"
   ]
  },
  {
   "cell_type": "code",
   "execution_count": null,
   "metadata": {
    "colab": {
     "base_uri": "https://localhost:8080/"
    },
    "executionInfo": {
     "elapsed": 14461,
     "status": "ok",
     "timestamp": 1668416662131,
     "user": {
      "displayName": "徐锦雯",
      "userId": "07523249921587303598"
     },
     "user_tz": -480
    },
    "id": "tSi0oBxXSxeW",
    "outputId": "76b66cd1-c4fb-4275-ef26-19b04d949480"
   },
   "outputs": [
    {
     "name": "stdout",
     "output_type": "stream",
     "text": [
      "For predicting Win:\n",
      "The confusion matrix of LightGBM:\n",
      " [[ 380    0]\n",
      " [   0 2713]]\n",
      "The auc_score of LightGBM:  1.00000\n",
      "The acc_score of LightGBM:  1.00000\n",
      "The F-measure of LightGBM:  1.00000\n",
      "The recall of LightGBM:  1.00000\n",
      "The precision of LightGBM:  1.00000\n"
     ]
    }
   ],
   "source": [
    "lgbm_dict_win = {}\n",
    "auc_win_lgbm, acc_win_lgbm, cm_win_lgbm, f1_win_lgbm, recall_win_lgbm, precision_win_lgbm = [], [], [], [], [], []\n",
    "\n",
    "for iter_i, params in iter_dict_win.items():\n",
    "  params = copy.deepcopy(params)\n",
    "  num_boost_round = params['n_estimators']\n",
    "  del params['n_estimators']\n",
    "\n",
    "  tree_model = train_trees(df_train[features], df_train['target_win'].values, num_round=num_boost_round, params=params)\n",
    "  y_preds_win_lgbm = tree_model.predict(df_test[features], num_iteration=tree_model.best_iteration)\n",
    "  lgbm_dict_win[iter_i] = tree_model\n",
    "\n",
    "  auc_win_lgbm.append(roc_auc_score(df_test['target_win'], y_preds_win_lgbm))\n",
    "  y_preds_win_lgbm = prob_threshold(y_preds_win_lgbm)\n",
    "  cm_win_lgbm.append(confusion_matrix(df_test['target_win'], y_preds_win_lgbm, labels=[1, 0]))\n",
    "  acc_win_lgbm.append(accuracy_score(df_test['target_win'], y_preds_win_lgbm))\n",
    "  f1_win_lgbm.append(f1_score(df_test['target_win'], y_preds_win_lgbm, labels=[1, 0]))\n",
    "  recall_win_lgbm.append(recall_score(df_test['target_win'], y_preds_win_lgbm, labels=[1, 0]))\n",
    "  precision_win_lgbm.append(precision_score(df_test['target_win'], y_preds_win_lgbm, labels=[1, 0]))\n",
    "\n",
    "best_index_win = auc_win_lgbm.index(max(auc_win_lgbm))\n",
    "best_auc_win_lgbm, best_acc_win_lgbm = auc_win_lgbm[best_index_win], acc_win_lgbm[best_index_win]\n",
    "best_cm_win_lgbm, best_f1_win_lgbm = cm_win_lgbm[best_index_win], f1_win_lgbm[best_index_win]\n",
    "best_recall_win_lgbm, best_precision_win_lgbm = recall_win_lgbm[best_index_win], precision_win_lgbm[best_index_win]\n",
    "\n",
    "print('For predicting Win:')\n",
    "print('The confusion matrix of LightGBM:\\n', best_cm_win_lgbm)\n",
    "print(f'The auc_score of LightGBM: {best_auc_win_lgbm: .05f}')\n",
    "print(f'The acc_score of LightGBM: {best_acc_win_lgbm: .05f}')\n",
    "print(f'The F-measure of LightGBM: {best_f1_win_lgbm: .05f}')\n",
    "print(f'The recall of LightGBM: {best_recall_win_lgbm: .05f}')\n",
    "print(f'The precision of LightGBM: {best_precision_win_lgbm: .05f}')\n",
    "\n",
    "win_models['LightGBM'] = [best_cm_win_lgbm, best_auc_win_lgbm, best_acc_win_lgbm, \n",
    "              best_f1_win_lgbm, best_recall_win_lgbm, best_precision_win_lgbm]"
   ]
  },
  {
   "cell_type": "markdown",
   "metadata": {
    "id": "-nqC9SZuvF9O"
   },
   "source": [
    "### **Predict 'Place'**"
   ]
  },
  {
   "cell_type": "code",
   "execution_count": null,
   "metadata": {
    "colab": {
     "base_uri": "https://localhost:8080/",
     "height": 392
    },
    "executionInfo": {
     "elapsed": 18,
     "status": "ok",
     "timestamp": 1668416662131,
     "user": {
      "displayName": "徐锦雯",
      "userId": "07523249921587303598"
     },
     "user_tz": -480
    },
    "id": "Fp8kWNeQvJdJ",
    "outputId": "5323ab21-9823-4140-e18a-d9c9e4c5fee7"
   },
   "outputs": [
    {
     "name": "stdout",
     "output_type": "stream",
     "text": [
      "(2741, 79) (7668, 79)\n"
     ]
    },
    {
     "data": {
      "text/plain": [
       "0    0.573148\n",
       "1    0.426852\n",
       "Name: target_plc, dtype: float64"
      ]
     },
     "metadata": {},
     "output_type": "display_data"
    },
    {
     "data": {
      "text/plain": [
       "0    0.601069\n",
       "1    0.398931\n",
       "Name: target_plc, dtype: float64"
      ]
     },
     "metadata": {},
     "output_type": "display_data"
    },
    {
     "name": "stdout",
     "output_type": "stream",
     "text": [
      "(5256, 79) (5153, 79)\n"
     ]
    },
    {
     "data": {
      "text/plain": [
       "0    0.577435\n",
       "1    0.422565\n",
       "Name: target_plc, dtype: float64"
      ]
     },
     "metadata": {},
     "output_type": "display_data"
    },
    {
     "data": {
      "text/plain": [
       "0    0.610324\n",
       "1    0.389676\n",
       "Name: target_plc, dtype: float64"
      ]
     },
     "metadata": {},
     "output_type": "display_data"
    },
    {
     "name": "stdout",
     "output_type": "stream",
     "text": [
      "(8469, 79) (1940, 79)\n"
     ]
    },
    {
     "data": {
      "text/plain": [
       "0    0.594521\n",
       "1    0.405479\n",
       "Name: target_plc, dtype: float64"
      ]
     },
     "metadata": {},
     "output_type": "display_data"
    },
    {
     "data": {
      "text/plain": [
       "0    0.590206\n",
       "1    0.409794\n",
       "Name: target_plc, dtype: float64"
      ]
     },
     "metadata": {},
     "output_type": "display_data"
    }
   ],
   "source": [
    "kfold_plc = []\n",
    "for i in [5, 7, 9]: \n",
    "  X_train = df_train.loc[(df_train['race_date']>=train_start) & (df_train['race_date']<f'2019-0{i}-01'), features]\n",
    "  y_train = df_train.loc[(df_train['race_date']>=train_start) & (df_train['race_date']<f'2019-0{i}-01'), ['target_plc']]\n",
    "  X_test = df_train.loc[(df_train['race_date']>=f'2019-0{i}-01') & (df_train['race_date']<train_end), features]\n",
    "  y_test = df_train.loc[(df_train['race_date']>=f'2019-0{i}-01') & (df_train['race_date']<train_end), ['target_plc']]\n",
    "  kfold_plc.append([X_train, y_train, X_test, y_test])\n",
    "  print(X_train.shape, X_test.shape)\n",
    "  display(y_train['target_plc'].value_counts() / y_train.shape[0])\n",
    "  display(y_test['target_plc'].value_counts() / y_test.shape[0])"
   ]
  },
  {
   "cell_type": "code",
   "execution_count": null,
   "metadata": {
    "id": "VvLeYkUUvZk1"
   },
   "outputs": [],
   "source": [
    "loss_dict = []\n",
    "def score_plc(params):\n",
    "  num_boost_round = params['n_estimators']\n",
    "  params_ = copy.deepcopy(params)\n",
    "  del params_['n_estimators']\n",
    "  losses = [] \n",
    "  for X_train,y_train,  X_test,y_test  in kfold_plc:\n",
    "    #-----start: train trees--------\n",
    "    tree_model = train_trees(X_train, y_train['target_plc'].values, num_round=num_boost_round, params=params_)\n",
    "    y_preds = tree_model.predict(X_test, num_iteration=tree_model.best_iteration)\n",
    "    loss = roc_auc_score(y_test['target_plc'], y_preds)\n",
    "    losses.append(loss) \n",
    "    #-----end: train trees----------\n",
    "    loss = np.mean(losses)\n",
    "    loss_dict.append({'params': params, 'losses': losses, 'mean_loss': loss})\n",
    "    return {'loss': -loss, 'status': STATUS_OK}\n",
    "    \n",
    "\n",
    "def optimize_plc(space, evals, cores, trials, optimizer=tpe.suggest, random_state=1234, n_startup_jobs=10):\n",
    "  algo = partial(optimizer, n_startup_jobs=n_startup_jobs)\n",
    "  best = fmin(score_plc, space, algo=algo, max_evals=evals, trials = trials)\n",
    "  bestparams = space_eval(space, best)\n",
    "  return bestparams"
   ]
  },
  {
   "cell_type": "code",
   "execution_count": null,
   "metadata": {
    "colab": {
     "base_uri": "https://localhost:8080/"
    },
    "executionInfo": {
     "elapsed": 714742,
     "status": "ok",
     "timestamp": 1668417376867,
     "user": {
      "displayName": "徐锦雯",
      "userId": "07523249921587303598"
     },
     "user_tz": -480
    },
    "id": "kiMYyQ99vjRg",
    "outputId": "3a7d3f4b-2e5d-42fb-db28-d0f69b4259f6"
   },
   "outputs": [
    {
     "name": "stdout",
     "output_type": "stream",
     "text": [
      "2022-11-14 09:04:21.780419 0\n",
      "100%|██████████| 100/100 [01:07<00:00,  1.47it/s, best loss: -1.0]\n",
      "2022-11-14 09:05:29.885235 1\n",
      "100%|██████████| 100/100 [01:12<00:00,  1.38it/s, best loss: -1.0]\n",
      "2022-11-14 09:06:42.607191 2\n",
      "100%|██████████| 100/100 [01:11<00:00,  1.39it/s, best loss: -1.0000000000000002]\n",
      "2022-11-14 09:07:54.435580 3\n",
      "100%|██████████| 100/100 [01:10<00:00,  1.42it/s, best loss: -1.0]\n",
      "2022-11-14 09:09:05.145810 4\n",
      "100%|██████████| 100/100 [01:11<00:00,  1.40it/s, best loss: -1.0000000000000002]\n",
      "2022-11-14 09:10:16.622669 5\n",
      "100%|██████████| 100/100 [01:11<00:00,  1.40it/s, best loss: -1.0000000000000002]\n",
      "2022-11-14 09:11:28.103495 6\n",
      "100%|██████████| 100/100 [01:09<00:00,  1.44it/s, best loss: -1.0000000000000002]\n",
      "2022-11-14 09:12:37.726644 7\n",
      "100%|██████████| 100/100 [01:11<00:00,  1.39it/s, best loss: -1.0000000000000002]\n",
      "2022-11-14 09:13:49.567618 8\n",
      "100%|██████████| 100/100 [01:13<00:00,  1.36it/s, best loss: -1.0000000000000002]\n",
      "2022-11-14 09:15:03.386267 9\n",
      "100%|██████████| 100/100 [01:12<00:00,  1.38it/s, best loss: -1.0000000000000002]\n"
     ]
    }
   ],
   "source": [
    "iter_dict_plc = {}\n",
    "for iter_i in range(10):\n",
    "  print(datetime.now(), iter_i)\n",
    "  cores = 8\n",
    "  n_trials = 100\n",
    "  n_rand_trials = 20\n",
    "  verbose = False\n",
    "  trials = Trials()\n",
    "\n",
    "  best_param_plc = optimize_plc(space, evals = n_trials, optimizer=tpe.suggest, cores = cores, \n",
    "                trials = trials, random_state=1234, n_startup_jobs=n_rand_trials)\n",
    "    \n",
    "  iter_dict_plc[iter_i] = best_param_plc"
   ]
  },
  {
   "cell_type": "code",
   "execution_count": null,
   "metadata": {
    "colab": {
     "base_uri": "https://localhost:8080/"
    },
    "executionInfo": {
     "elapsed": 11204,
     "status": "ok",
     "timestamp": 1668417388057,
     "user": {
      "displayName": "徐锦雯",
      "userId": "07523249921587303598"
     },
     "user_tz": -480
    },
    "id": "Uhah2swwwgbJ",
    "outputId": "ecf86e64-c6e2-4f79-fbb8-70be86581f5e"
   },
   "outputs": [
    {
     "name": "stdout",
     "output_type": "stream",
     "text": [
      "For predicting Place:\n",
      "The confusion matrix of LightGBM:\n",
      " [[1142    0]\n",
      " [   0 1951]]\n",
      "The auc_score of LightGBM:  1.00000\n",
      "The acc_score of LightGBM:  1.00000\n",
      "The F-measure of LightGBM:  1.00000\n",
      "The recall of LightGBM:  1.00000\n",
      "The precision of LightGBM:  1.00000\n"
     ]
    }
   ],
   "source": [
    "lgbm_dict_plc = {}\n",
    "auc_plc_lgbm, acc_plc_lgbm, cm_plc_lgbm, f1_plc_lgbm, recall_plc_lgbm, precision_plc_lgbm = [], [], [], [], [], []\n",
    "\n",
    "for iter_i, params in iter_dict_plc.items():\n",
    "  params = copy.deepcopy(params)\n",
    "  num_boost_round = params['n_estimators']\n",
    "  del params['n_estimators']\n",
    "\n",
    "  tree_model = train_trees(df_train[features], df_train['target_plc'].values, num_round=num_boost_round, params=params)\n",
    "  y_preds_plc_lgbm = tree_model.predict(df_test[features], num_iteration=tree_model.best_iteration)\n",
    "  lgbm_dict_plc[iter_i] = tree_model\n",
    "\n",
    "  auc_plc_lgbm.append(roc_auc_score(df_test['target_plc'], y_preds_plc_lgbm))\n",
    "  y_preds_plc_lgbm = prob_threshold(y_preds_plc_lgbm)\n",
    "  cm_plc_lgbm.append(confusion_matrix(df_test['target_plc'], y_preds_plc_lgbm, labels=[1, 0]))\n",
    "  acc_plc_lgbm.append(accuracy_score(df_test['target_plc'], y_preds_plc_lgbm))\n",
    "  f1_plc_lgbm.append(f1_score(df_test['target_plc'], y_preds_plc_lgbm, labels=[1, 0]))\n",
    "  recall_plc_lgbm.append(recall_score(df_test['target_plc'], y_preds_plc_lgbm, labels=[1, 0]))\n",
    "  precision_plc_lgbm.append(precision_score(df_test['target_plc'], y_preds_plc_lgbm, labels=[1, 0]))\n",
    "\n",
    "best_index_plc = auc_plc_lgbm.index(max(auc_plc_lgbm))\n",
    "best_auc_plc_lgbm, best_acc_plc_lgbm = auc_plc_lgbm[best_index_plc], acc_plc_lgbm[best_index_plc]\n",
    "best_cm_plc_lgbm, best_f1_plc_lgbm = cm_plc_lgbm[best_index_plc], f1_plc_lgbm[best_index_plc]\n",
    "best_recall_plc_lgbm, best_precision_plc_lgbm = recall_plc_lgbm[best_index_plc], precision_plc_lgbm[best_index_plc]\n",
    "\n",
    "print('For predicting Place:')\n",
    "print('The confusion matrix of LightGBM:\\n', best_cm_plc_lgbm)\n",
    "print(f'The auc_score of LightGBM: {best_auc_plc_lgbm: .05f}')\n",
    "print(f'The acc_score of LightGBM: {best_acc_plc_lgbm: .05f}')\n",
    "print(f'The F-measure of LightGBM: {best_f1_plc_lgbm: .05f}')\n",
    "print(f'The recall of LightGBM: {best_recall_plc_lgbm: .05f}')\n",
    "print(f'The precision of LightGBM: {best_precision_plc_lgbm: .05f}')\n",
    "\n",
    "plc_models['LightGBM'] = [best_cm_plc_lgbm, best_auc_plc_lgbm, best_acc_plc_lgbm, \n",
    "              best_f1_plc_lgbm, best_recall_plc_lgbm, best_precision_plc_lgbm]"
   ]
  },
  {
   "cell_type": "markdown",
   "metadata": {
    "id": "w0tX9ySnd8tc"
   },
   "source": [
    "## Check models' performance"
   ]
  },
  {
   "cell_type": "markdown",
   "metadata": {
    "id": "qcHNIh04W_q2"
   },
   "source": [
    "#### Models for predicting \"Win'"
   ]
  },
  {
   "cell_type": "code",
   "execution_count": null,
   "metadata": {
    "colab": {
     "base_uri": "https://localhost:8080/",
     "height": 300
    },
    "executionInfo": {
     "elapsed": 29,
     "status": "ok",
     "timestamp": 1668417388058,
     "user": {
      "displayName": "徐锦雯",
      "userId": "07523249921587303598"
     },
     "user_tz": -480
    },
    "id": "bNDfKX1la9Gh",
    "outputId": "ef8d077d-0678-47b0-9b2e-87516ae0ef7b"
   },
   "outputs": [
    {
     "data": {
      "text/html": [
       "\n",
       "  <div id=\"df-ad72b2e5-7533-431e-8b0c-7822e614ef0b\">\n",
       "    <div class=\"colab-df-container\">\n",
       "      <div>\n",
       "<style scoped>\n",
       "    .dataframe tbody tr th:only-of-type {\n",
       "        vertical-align: middle;\n",
       "    }\n",
       "\n",
       "    .dataframe tbody tr th {\n",
       "        vertical-align: top;\n",
       "    }\n",
       "\n",
       "    .dataframe thead th {\n",
       "        text-align: right;\n",
       "    }\n",
       "</style>\n",
       "<table border=\"1\" class=\"dataframe\">\n",
       "  <thead>\n",
       "    <tr style=\"text-align: right;\">\n",
       "      <th></th>\n",
       "      <th>confusion_matrix</th>\n",
       "      <th>auc_score</th>\n",
       "      <th>acc_score</th>\n",
       "      <th>f1_score</th>\n",
       "      <th>recall</th>\n",
       "      <th>precision</th>\n",
       "    </tr>\n",
       "  </thead>\n",
       "  <tbody>\n",
       "    <tr>\n",
       "      <th>LogisticRegression</th>\n",
       "      <td>[[0, 380], [0, 2713]]</td>\n",
       "      <td>0.500000</td>\n",
       "      <td>0.877142</td>\n",
       "      <td>0.000000</td>\n",
       "      <td>0.000000</td>\n",
       "      <td>0.000000</td>\n",
       "    </tr>\n",
       "    <tr>\n",
       "      <th>SVM</th>\n",
       "      <td>[[0, 380], [0, 2713]]</td>\n",
       "      <td>0.500000</td>\n",
       "      <td>0.877142</td>\n",
       "      <td>0.000000</td>\n",
       "      <td>0.000000</td>\n",
       "      <td>0.000000</td>\n",
       "    </tr>\n",
       "    <tr>\n",
       "      <th>KNN</th>\n",
       "      <td>[[27, 353], [69, 2644]]</td>\n",
       "      <td>0.522810</td>\n",
       "      <td>0.863563</td>\n",
       "      <td>0.113445</td>\n",
       "      <td>0.071053</td>\n",
       "      <td>0.281250</td>\n",
       "    </tr>\n",
       "    <tr>\n",
       "      <th>NaiveBayes</th>\n",
       "      <td>[[105, 275], [246, 2467]]</td>\n",
       "      <td>0.592821</td>\n",
       "      <td>0.831555</td>\n",
       "      <td>0.287278</td>\n",
       "      <td>0.276316</td>\n",
       "      <td>0.299145</td>\n",
       "    </tr>\n",
       "    <tr>\n",
       "      <th>ANN</th>\n",
       "      <td>[[0, 380], [0, 2713]]</td>\n",
       "      <td>0.775187</td>\n",
       "      <td>0.877142</td>\n",
       "      <td>0.000000</td>\n",
       "      <td>0.000000</td>\n",
       "      <td>0.000000</td>\n",
       "    </tr>\n",
       "    <tr>\n",
       "      <th>DecisionTrees</th>\n",
       "      <td>[[380, 0], [0, 2713]]</td>\n",
       "      <td>1.000000</td>\n",
       "      <td>1.000000</td>\n",
       "      <td>1.000000</td>\n",
       "      <td>1.000000</td>\n",
       "      <td>1.000000</td>\n",
       "    </tr>\n",
       "    <tr>\n",
       "      <th>RandomForest</th>\n",
       "      <td>[[380, 0], [0, 2713]]</td>\n",
       "      <td>1.000000</td>\n",
       "      <td>1.000000</td>\n",
       "      <td>1.000000</td>\n",
       "      <td>1.000000</td>\n",
       "      <td>1.000000</td>\n",
       "    </tr>\n",
       "    <tr>\n",
       "      <th>LightGBM</th>\n",
       "      <td>[[380, 0], [0, 2713]]</td>\n",
       "      <td>1.000000</td>\n",
       "      <td>1.000000</td>\n",
       "      <td>1.000000</td>\n",
       "      <td>1.000000</td>\n",
       "      <td>1.000000</td>\n",
       "    </tr>\n",
       "  </tbody>\n",
       "</table>\n",
       "</div>\n",
       "      <button class=\"colab-df-convert\" onclick=\"convertToInteractive('df-ad72b2e5-7533-431e-8b0c-7822e614ef0b')\"\n",
       "              title=\"Convert this dataframe to an interactive table.\"\n",
       "              style=\"display:none;\">\n",
       "        \n",
       "  <svg xmlns=\"http://www.w3.org/2000/svg\" height=\"24px\"viewBox=\"0 0 24 24\"\n",
       "       width=\"24px\">\n",
       "    <path d=\"M0 0h24v24H0V0z\" fill=\"none\"/>\n",
       "    <path d=\"M18.56 5.44l.94 2.06.94-2.06 2.06-.94-2.06-.94-.94-2.06-.94 2.06-2.06.94zm-11 1L8.5 8.5l.94-2.06 2.06-.94-2.06-.94L8.5 2.5l-.94 2.06-2.06.94zm10 10l.94 2.06.94-2.06 2.06-.94-2.06-.94-.94-2.06-.94 2.06-2.06.94z\"/><path d=\"M17.41 7.96l-1.37-1.37c-.4-.4-.92-.59-1.43-.59-.52 0-1.04.2-1.43.59L10.3 9.45l-7.72 7.72c-.78.78-.78 2.05 0 2.83L4 21.41c.39.39.9.59 1.41.59.51 0 1.02-.2 1.41-.59l7.78-7.78 2.81-2.81c.8-.78.8-2.07 0-2.86zM5.41 20L4 18.59l7.72-7.72 1.47 1.35L5.41 20z\"/>\n",
       "  </svg>\n",
       "      </button>\n",
       "      \n",
       "  <style>\n",
       "    .colab-df-container {\n",
       "      display:flex;\n",
       "      flex-wrap:wrap;\n",
       "      gap: 12px;\n",
       "    }\n",
       "\n",
       "    .colab-df-convert {\n",
       "      background-color: #E8F0FE;\n",
       "      border: none;\n",
       "      border-radius: 50%;\n",
       "      cursor: pointer;\n",
       "      display: none;\n",
       "      fill: #1967D2;\n",
       "      height: 32px;\n",
       "      padding: 0 0 0 0;\n",
       "      width: 32px;\n",
       "    }\n",
       "\n",
       "    .colab-df-convert:hover {\n",
       "      background-color: #E2EBFA;\n",
       "      box-shadow: 0px 1px 2px rgba(60, 64, 67, 0.3), 0px 1px 3px 1px rgba(60, 64, 67, 0.15);\n",
       "      fill: #174EA6;\n",
       "    }\n",
       "\n",
       "    [theme=dark] .colab-df-convert {\n",
       "      background-color: #3B4455;\n",
       "      fill: #D2E3FC;\n",
       "    }\n",
       "\n",
       "    [theme=dark] .colab-df-convert:hover {\n",
       "      background-color: #434B5C;\n",
       "      box-shadow: 0px 1px 3px 1px rgba(0, 0, 0, 0.15);\n",
       "      filter: drop-shadow(0px 1px 2px rgba(0, 0, 0, 0.3));\n",
       "      fill: #FFFFFF;\n",
       "    }\n",
       "  </style>\n",
       "\n",
       "      <script>\n",
       "        const buttonEl =\n",
       "          document.querySelector('#df-ad72b2e5-7533-431e-8b0c-7822e614ef0b button.colab-df-convert');\n",
       "        buttonEl.style.display =\n",
       "          google.colab.kernel.accessAllowed ? 'block' : 'none';\n",
       "\n",
       "        async function convertToInteractive(key) {\n",
       "          const element = document.querySelector('#df-ad72b2e5-7533-431e-8b0c-7822e614ef0b');\n",
       "          const dataTable =\n",
       "            await google.colab.kernel.invokeFunction('convertToInteractive',\n",
       "                                                     [key], {});\n",
       "          if (!dataTable) return;\n",
       "\n",
       "          const docLinkHtml = 'Like what you see? Visit the ' +\n",
       "            '<a target=\"_blank\" href=https://colab.research.google.com/notebooks/data_table.ipynb>data table notebook</a>'\n",
       "            + ' to learn more about interactive tables.';\n",
       "          element.innerHTML = '';\n",
       "          dataTable['output_type'] = 'display_data';\n",
       "          await google.colab.output.renderOutput(dataTable, element);\n",
       "          const docLink = document.createElement('div');\n",
       "          docLink.innerHTML = docLinkHtml;\n",
       "          element.appendChild(docLink);\n",
       "        }\n",
       "      </script>\n",
       "    </div>\n",
       "  </div>\n",
       "  "
      ],
      "text/plain": [
       "                             confusion_matrix  auc_score  acc_score  f1_score  \\\n",
       "LogisticRegression      [[0, 380], [0, 2713]]   0.500000   0.877142  0.000000   \n",
       "SVM                     [[0, 380], [0, 2713]]   0.500000   0.877142  0.000000   \n",
       "KNN                   [[27, 353], [69, 2644]]   0.522810   0.863563  0.113445   \n",
       "NaiveBayes          [[105, 275], [246, 2467]]   0.592821   0.831555  0.287278   \n",
       "ANN                     [[0, 380], [0, 2713]]   0.775187   0.877142  0.000000   \n",
       "DecisionTrees           [[380, 0], [0, 2713]]   1.000000   1.000000  1.000000   \n",
       "RandomForest            [[380, 0], [0, 2713]]   1.000000   1.000000  1.000000   \n",
       "LightGBM                [[380, 0], [0, 2713]]   1.000000   1.000000  1.000000   \n",
       "\n",
       "                      recall  precision  \n",
       "LogisticRegression  0.000000   0.000000  \n",
       "SVM                 0.000000   0.000000  \n",
       "KNN                 0.071053   0.281250  \n",
       "NaiveBayes          0.276316   0.299145  \n",
       "ANN                 0.000000   0.000000  \n",
       "DecisionTrees       1.000000   1.000000  \n",
       "RandomForest        1.000000   1.000000  \n",
       "LightGBM            1.000000   1.000000  "
      ]
     },
     "execution_count": 318,
     "metadata": {},
     "output_type": "execute_result"
    }
   ],
   "source": [
    "pd.DataFrame(win_models.values(), index=win_models.keys(), \n",
    "      columns=['confusion_matrix', 'auc_score', 'acc_score', 'f1_score',\n",
    "          'recall', 'precision']).sort_values(by=['auc_score', 'f1_score'])"
   ]
  },
  {
   "cell_type": "code",
   "execution_count": null,
   "metadata": {
    "colab": {
     "base_uri": "https://localhost:8080/"
    },
    "executionInfo": {
     "elapsed": 11,
     "status": "ok",
     "timestamp": 1668417388058,
     "user": {
      "displayName": "徐锦雯",
      "userId": "07523249921587303598"
     },
     "user_tz": -480
    },
    "id": "QoNgm6VxKH0O",
    "outputId": "aada6f31-2dfc-4800-bab5-a9b7ba0ce56d"
   },
   "outputs": [
    {
     "data": {
      "text/plain": [
       "array([[ 380,    0],\n",
       "       [   0, 2713]])"
      ]
     },
     "execution_count": 319,
     "metadata": {},
     "output_type": "execute_result"
    }
   ],
   "source": [
    "confusion_matrix(y_test_win, y_test_win, labels=[1, 0])"
   ]
  },
  {
   "cell_type": "markdown",
   "metadata": {
    "id": "7zJ7NYehFC4z"
   },
   "source": [
    "*Conclution for Win:*\n",
    "\n",
    "* Through the confusion matrix, can notice that the logistic regression, SVM and ANN predict all as positive, thus they do not make correct prediction on 'Win'.\n",
    "\n",
    "* The best model for predicting 'Win' seems to be LightGBM. And the Decision Trees model also has not bad performance."
   ]
  },
  {
   "cell_type": "markdown",
   "metadata": {
    "id": "afA16_h6XIAP"
   },
   "source": [
    "#### **Models for predicting \"place\"**"
   ]
  },
  {
   "cell_type": "code",
   "execution_count": null,
   "metadata": {
    "colab": {
     "base_uri": "https://localhost:8080/",
     "height": 300
    },
    "executionInfo": {
     "elapsed": 10,
     "status": "ok",
     "timestamp": 1668417388059,
     "user": {
      "displayName": "徐锦雯",
      "userId": "07523249921587303598"
     },
     "user_tz": -480
    },
    "id": "bf-S-kI6dxYj",
    "outputId": "6f88513e-d7b9-4a5c-9c87-580f10058a1e"
   },
   "outputs": [
    {
     "data": {
      "text/html": [
       "\n",
       "  <div id=\"df-6da7095a-2f71-4c1e-a38e-246c1c46f207\">\n",
       "    <div class=\"colab-df-container\">\n",
       "      <div>\n",
       "<style scoped>\n",
       "    .dataframe tbody tr th:only-of-type {\n",
       "        vertical-align: middle;\n",
       "    }\n",
       "\n",
       "    .dataframe tbody tr th {\n",
       "        vertical-align: top;\n",
       "    }\n",
       "\n",
       "    .dataframe thead th {\n",
       "        text-align: right;\n",
       "    }\n",
       "</style>\n",
       "<table border=\"1\" class=\"dataframe\">\n",
       "  <thead>\n",
       "    <tr style=\"text-align: right;\">\n",
       "      <th></th>\n",
       "      <th>confusion_matrix</th>\n",
       "      <th>auc_score</th>\n",
       "      <th>acc_score</th>\n",
       "      <th>f1_score</th>\n",
       "      <th>recall</th>\n",
       "      <th>precision</th>\n",
       "    </tr>\n",
       "  </thead>\n",
       "  <tbody>\n",
       "    <tr>\n",
       "      <th>KNN</th>\n",
       "      <td>[[566, 576], [516, 1435]]</td>\n",
       "      <td>0.615571</td>\n",
       "      <td>0.646945</td>\n",
       "      <td>0.508993</td>\n",
       "      <td>0.495622</td>\n",
       "      <td>0.523105</td>\n",
       "    </tr>\n",
       "    <tr>\n",
       "      <th>SVM</th>\n",
       "      <td>[[858, 284], [821, 1130]]</td>\n",
       "      <td>0.665252</td>\n",
       "      <td>0.642742</td>\n",
       "      <td>0.608295</td>\n",
       "      <td>0.751313</td>\n",
       "      <td>0.511018</td>\n",
       "    </tr>\n",
       "    <tr>\n",
       "      <th>NaiveBayes</th>\n",
       "      <td>[[879, 263], [854, 1097]]</td>\n",
       "      <td>0.665989</td>\n",
       "      <td>0.638862</td>\n",
       "      <td>0.611478</td>\n",
       "      <td>0.769702</td>\n",
       "      <td>0.507213</td>\n",
       "    </tr>\n",
       "    <tr>\n",
       "      <th>LogisticRegression</th>\n",
       "      <td>[[656, 486], [463, 1488]]</td>\n",
       "      <td>0.668558</td>\n",
       "      <td>0.693178</td>\n",
       "      <td>0.580274</td>\n",
       "      <td>0.574431</td>\n",
       "      <td>0.586238</td>\n",
       "    </tr>\n",
       "    <tr>\n",
       "      <th>ANN</th>\n",
       "      <td>[[692, 450], [495, 1456]]</td>\n",
       "      <td>0.755136</td>\n",
       "      <td>0.694471</td>\n",
       "      <td>0.594246</td>\n",
       "      <td>0.605954</td>\n",
       "      <td>0.582982</td>\n",
       "    </tr>\n",
       "    <tr>\n",
       "      <th>DecisionTree</th>\n",
       "      <td>[[1142, 0], [0, 1951]]</td>\n",
       "      <td>1.000000</td>\n",
       "      <td>1.000000</td>\n",
       "      <td>1.000000</td>\n",
       "      <td>1.000000</td>\n",
       "      <td>1.000000</td>\n",
       "    </tr>\n",
       "    <tr>\n",
       "      <th>RandomForest</th>\n",
       "      <td>[[1142, 0], [0, 1951]]</td>\n",
       "      <td>1.000000</td>\n",
       "      <td>1.000000</td>\n",
       "      <td>1.000000</td>\n",
       "      <td>1.000000</td>\n",
       "      <td>1.000000</td>\n",
       "    </tr>\n",
       "    <tr>\n",
       "      <th>LightGBM</th>\n",
       "      <td>[[1142, 0], [0, 1951]]</td>\n",
       "      <td>1.000000</td>\n",
       "      <td>1.000000</td>\n",
       "      <td>1.000000</td>\n",
       "      <td>1.000000</td>\n",
       "      <td>1.000000</td>\n",
       "    </tr>\n",
       "  </tbody>\n",
       "</table>\n",
       "</div>\n",
       "      <button class=\"colab-df-convert\" onclick=\"convertToInteractive('df-6da7095a-2f71-4c1e-a38e-246c1c46f207')\"\n",
       "              title=\"Convert this dataframe to an interactive table.\"\n",
       "              style=\"display:none;\">\n",
       "        \n",
       "  <svg xmlns=\"http://www.w3.org/2000/svg\" height=\"24px\"viewBox=\"0 0 24 24\"\n",
       "       width=\"24px\">\n",
       "    <path d=\"M0 0h24v24H0V0z\" fill=\"none\"/>\n",
       "    <path d=\"M18.56 5.44l.94 2.06.94-2.06 2.06-.94-2.06-.94-.94-2.06-.94 2.06-2.06.94zm-11 1L8.5 8.5l.94-2.06 2.06-.94-2.06-.94L8.5 2.5l-.94 2.06-2.06.94zm10 10l.94 2.06.94-2.06 2.06-.94-2.06-.94-.94-2.06-.94 2.06-2.06.94z\"/><path d=\"M17.41 7.96l-1.37-1.37c-.4-.4-.92-.59-1.43-.59-.52 0-1.04.2-1.43.59L10.3 9.45l-7.72 7.72c-.78.78-.78 2.05 0 2.83L4 21.41c.39.39.9.59 1.41.59.51 0 1.02-.2 1.41-.59l7.78-7.78 2.81-2.81c.8-.78.8-2.07 0-2.86zM5.41 20L4 18.59l7.72-7.72 1.47 1.35L5.41 20z\"/>\n",
       "  </svg>\n",
       "      </button>\n",
       "      \n",
       "  <style>\n",
       "    .colab-df-container {\n",
       "      display:flex;\n",
       "      flex-wrap:wrap;\n",
       "      gap: 12px;\n",
       "    }\n",
       "\n",
       "    .colab-df-convert {\n",
       "      background-color: #E8F0FE;\n",
       "      border: none;\n",
       "      border-radius: 50%;\n",
       "      cursor: pointer;\n",
       "      display: none;\n",
       "      fill: #1967D2;\n",
       "      height: 32px;\n",
       "      padding: 0 0 0 0;\n",
       "      width: 32px;\n",
       "    }\n",
       "\n",
       "    .colab-df-convert:hover {\n",
       "      background-color: #E2EBFA;\n",
       "      box-shadow: 0px 1px 2px rgba(60, 64, 67, 0.3), 0px 1px 3px 1px rgba(60, 64, 67, 0.15);\n",
       "      fill: #174EA6;\n",
       "    }\n",
       "\n",
       "    [theme=dark] .colab-df-convert {\n",
       "      background-color: #3B4455;\n",
       "      fill: #D2E3FC;\n",
       "    }\n",
       "\n",
       "    [theme=dark] .colab-df-convert:hover {\n",
       "      background-color: #434B5C;\n",
       "      box-shadow: 0px 1px 3px 1px rgba(0, 0, 0, 0.15);\n",
       "      filter: drop-shadow(0px 1px 2px rgba(0, 0, 0, 0.3));\n",
       "      fill: #FFFFFF;\n",
       "    }\n",
       "  </style>\n",
       "\n",
       "      <script>\n",
       "        const buttonEl =\n",
       "          document.querySelector('#df-6da7095a-2f71-4c1e-a38e-246c1c46f207 button.colab-df-convert');\n",
       "        buttonEl.style.display =\n",
       "          google.colab.kernel.accessAllowed ? 'block' : 'none';\n",
       "\n",
       "        async function convertToInteractive(key) {\n",
       "          const element = document.querySelector('#df-6da7095a-2f71-4c1e-a38e-246c1c46f207');\n",
       "          const dataTable =\n",
       "            await google.colab.kernel.invokeFunction('convertToInteractive',\n",
       "                                                     [key], {});\n",
       "          if (!dataTable) return;\n",
       "\n",
       "          const docLinkHtml = 'Like what you see? Visit the ' +\n",
       "            '<a target=\"_blank\" href=https://colab.research.google.com/notebooks/data_table.ipynb>data table notebook</a>'\n",
       "            + ' to learn more about interactive tables.';\n",
       "          element.innerHTML = '';\n",
       "          dataTable['output_type'] = 'display_data';\n",
       "          await google.colab.output.renderOutput(dataTable, element);\n",
       "          const docLink = document.createElement('div');\n",
       "          docLink.innerHTML = docLinkHtml;\n",
       "          element.appendChild(docLink);\n",
       "        }\n",
       "      </script>\n",
       "    </div>\n",
       "  </div>\n",
       "  "
      ],
      "text/plain": [
       "                             confusion_matrix  auc_score  acc_score  f1_score  \\\n",
       "KNN                 [[566, 576], [516, 1435]]   0.615571   0.646945  0.508993   \n",
       "SVM                 [[858, 284], [821, 1130]]   0.665252   0.642742  0.608295   \n",
       "NaiveBayes          [[879, 263], [854, 1097]]   0.665989   0.638862  0.611478   \n",
       "LogisticRegression  [[656, 486], [463, 1488]]   0.668558   0.693178  0.580274   \n",
       "ANN                 [[692, 450], [495, 1456]]   0.755136   0.694471  0.594246   \n",
       "DecisionTree           [[1142, 0], [0, 1951]]   1.000000   1.000000  1.000000   \n",
       "RandomForest           [[1142, 0], [0, 1951]]   1.000000   1.000000  1.000000   \n",
       "LightGBM               [[1142, 0], [0, 1951]]   1.000000   1.000000  1.000000   \n",
       "\n",
       "                      recall  precision  \n",
       "KNN                 0.495622   0.523105  \n",
       "SVM                 0.751313   0.511018  \n",
       "NaiveBayes          0.769702   0.507213  \n",
       "LogisticRegression  0.574431   0.586238  \n",
       "ANN                 0.605954   0.582982  \n",
       "DecisionTree        1.000000   1.000000  \n",
       "RandomForest        1.000000   1.000000  \n",
       "LightGBM            1.000000   1.000000  "
      ]
     },
     "execution_count": 320,
     "metadata": {},
     "output_type": "execute_result"
    }
   ],
   "source": [
    "pd.DataFrame(plc_models.values(), index=plc_models.keys(), \n",
    "      columns=['confusion_matrix', 'auc_score', 'acc_score', 'f1_score',\n",
    "          'recall', 'precision']).sort_values(by=['auc_score', 'f1_score'])"
   ]
  },
  {
   "cell_type": "code",
   "execution_count": null,
   "metadata": {
    "colab": {
     "base_uri": "https://localhost:8080/"
    },
    "executionInfo": {
     "elapsed": 9,
     "status": "ok",
     "timestamp": 1668417388059,
     "user": {
      "displayName": "徐锦雯",
      "userId": "07523249921587303598"
     },
     "user_tz": -480
    },
    "id": "F94hqOP8J5wZ",
    "outputId": "80043522-04c0-4539-9316-7d2162834efa"
   },
   "outputs": [
    {
     "data": {
      "text/plain": [
       "array([[1142,    0],\n",
       "       [   0, 1951]])"
      ]
     },
     "execution_count": 321,
     "metadata": {},
     "output_type": "execute_result"
    }
   ],
   "source": [
    "confusion_matrix(y_test_plc, y_test_plc, labels=[1, 0])"
   ]
  },
  {
   "cell_type": "markdown",
   "metadata": {
    "id": "G9iQxJ9HeXy_"
   },
   "source": [
    "*Conclusion for Place:*\n",
    "\n",
    "* Through the confusion matrix, can notice that the SVM model predicts all as positive, thus it does not make correct prediction on 'Place'.\n",
    "\n",
    "* The best model seems to be LightGBM, while the Random Forest is also a well performed model."
   ]
  },
  {
   "cell_type": "markdown",
   "metadata": {
    "id": "BKPgot9VQfDm"
   },
   "source": [
    "#### **Conclusion**\n",
    "\n",
    "* SVM is not a good model in this task based on the chosen features. And the Logistic Regression model and ANN are not suitable for predicting 'Win'.\n",
    "\n",
    "* The best model for prediction 'Win' and 'Place' seems to be LightGBM.\n",
    "\n",
    "* Besides, Decision Trees and Random Forest are also good models that can be used in this task."
   ]
  }
 ],
 "metadata": {
  "colab": {
   "provenance": []
  },
  "kernelspec": {
   "display_name": "Python 3 (ipykernel)",
   "language": "python",
   "name": "python3"
  },
  "language_info": {
   "codemirror_mode": {
    "name": "ipython",
    "version": 3
   },
   "file_extension": ".py",
   "mimetype": "text/x-python",
   "name": "python",
   "nbconvert_exporter": "python",
   "pygments_lexer": "ipython3",
   "version": "3.9.12"
  }
 },
 "nbformat": 4,
 "nbformat_minor": 1
}
